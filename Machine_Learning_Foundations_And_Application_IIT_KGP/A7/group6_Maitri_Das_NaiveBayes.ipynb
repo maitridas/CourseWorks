{
  "nbformat": 4,
  "nbformat_minor": 0,
  "metadata": {
    "colab": {
      "name": "group6_Maitri_Das_NaiveBayes.ipynb",
      "provenance": [],
      "collapsed_sections": []
    },
    "kernelspec": {
      "display_name": "Python 3",
      "language": "python",
      "name": "python3"
    },
    "language_info": {
      "codemirror_mode": {
        "name": "ipython",
        "version": 3
      },
      "file_extension": ".py",
      "mimetype": "text/x-python",
      "name": "python",
      "nbconvert_exporter": "python",
      "pygments_lexer": "ipython3",
      "version": "3.8.8"
    }
  },
  "cells": [
    {
      "cell_type": "code",
      "metadata": {
        "id": "NK2atPeSSb4X"
      },
      "source": [
        "# Do not make any changes in this cell\n",
        "# Simply execute it and move on\n",
        "\n",
        "import pandas as pd  \n",
        "import numpy as np \n",
        "import matplotlib.pyplot as plt\n",
        "import json\n",
        "ans = [0]*8"
      ],
      "execution_count": 2,
      "outputs": []
    },
    {
      "cell_type": "code",
      "metadata": {
        "id": "Rkzprys5Ssux",
        "colab": {
          "base_uri": "https://localhost:8080/",
          "height": 424
        },
        "outputId": "028c1c6c-8e7d-4d88-efe8-8ada3107f844"
      },
      "source": [
        "# Simply execute this cell and move on\n",
        "\n",
        "#Import the dataset and define the feature as well as the target datasets / columns  \n",
        "dataset = pd.read_csv('heart.csv')  \n",
        "#We drop the 'trestbps','chol','thalach','oldpeak' as they have numerical values  \n",
        "dataset=dataset.drop('trestbps',axis=1) \n",
        "dataset=dataset.drop('chol',axis=1) \n",
        "dataset=dataset.drop('thalach',axis=1) \n",
        "dataset=dataset.drop('oldpeak',axis=1) \n",
        "dataset"
      ],
      "execution_count": 3,
      "outputs": [
        {
          "output_type": "execute_result",
          "data": {
            "text/html": [
              "<div>\n",
              "<style scoped>\n",
              "    .dataframe tbody tr th:only-of-type {\n",
              "        vertical-align: middle;\n",
              "    }\n",
              "\n",
              "    .dataframe tbody tr th {\n",
              "        vertical-align: top;\n",
              "    }\n",
              "\n",
              "    .dataframe thead th {\n",
              "        text-align: right;\n",
              "    }\n",
              "</style>\n",
              "<table border=\"1\" class=\"dataframe\">\n",
              "  <thead>\n",
              "    <tr style=\"text-align: right;\">\n",
              "      <th></th>\n",
              "      <th>age</th>\n",
              "      <th>sex</th>\n",
              "      <th>cp</th>\n",
              "      <th>fbs</th>\n",
              "      <th>restecg</th>\n",
              "      <th>exang</th>\n",
              "      <th>slope</th>\n",
              "      <th>ca</th>\n",
              "      <th>thal</th>\n",
              "      <th>target</th>\n",
              "    </tr>\n",
              "  </thead>\n",
              "  <tbody>\n",
              "    <tr>\n",
              "      <th>0</th>\n",
              "      <td>63</td>\n",
              "      <td>1</td>\n",
              "      <td>3</td>\n",
              "      <td>1</td>\n",
              "      <td>0</td>\n",
              "      <td>0</td>\n",
              "      <td>0</td>\n",
              "      <td>0</td>\n",
              "      <td>1</td>\n",
              "      <td>1</td>\n",
              "    </tr>\n",
              "    <tr>\n",
              "      <th>1</th>\n",
              "      <td>37</td>\n",
              "      <td>1</td>\n",
              "      <td>2</td>\n",
              "      <td>0</td>\n",
              "      <td>1</td>\n",
              "      <td>0</td>\n",
              "      <td>0</td>\n",
              "      <td>0</td>\n",
              "      <td>2</td>\n",
              "      <td>1</td>\n",
              "    </tr>\n",
              "    <tr>\n",
              "      <th>2</th>\n",
              "      <td>41</td>\n",
              "      <td>0</td>\n",
              "      <td>1</td>\n",
              "      <td>0</td>\n",
              "      <td>0</td>\n",
              "      <td>0</td>\n",
              "      <td>2</td>\n",
              "      <td>0</td>\n",
              "      <td>2</td>\n",
              "      <td>1</td>\n",
              "    </tr>\n",
              "    <tr>\n",
              "      <th>3</th>\n",
              "      <td>56</td>\n",
              "      <td>1</td>\n",
              "      <td>1</td>\n",
              "      <td>0</td>\n",
              "      <td>1</td>\n",
              "      <td>0</td>\n",
              "      <td>2</td>\n",
              "      <td>0</td>\n",
              "      <td>2</td>\n",
              "      <td>1</td>\n",
              "    </tr>\n",
              "    <tr>\n",
              "      <th>4</th>\n",
              "      <td>57</td>\n",
              "      <td>0</td>\n",
              "      <td>0</td>\n",
              "      <td>0</td>\n",
              "      <td>1</td>\n",
              "      <td>1</td>\n",
              "      <td>2</td>\n",
              "      <td>0</td>\n",
              "      <td>2</td>\n",
              "      <td>1</td>\n",
              "    </tr>\n",
              "    <tr>\n",
              "      <th>...</th>\n",
              "      <td>...</td>\n",
              "      <td>...</td>\n",
              "      <td>...</td>\n",
              "      <td>...</td>\n",
              "      <td>...</td>\n",
              "      <td>...</td>\n",
              "      <td>...</td>\n",
              "      <td>...</td>\n",
              "      <td>...</td>\n",
              "      <td>...</td>\n",
              "    </tr>\n",
              "    <tr>\n",
              "      <th>298</th>\n",
              "      <td>57</td>\n",
              "      <td>0</td>\n",
              "      <td>0</td>\n",
              "      <td>0</td>\n",
              "      <td>1</td>\n",
              "      <td>1</td>\n",
              "      <td>1</td>\n",
              "      <td>0</td>\n",
              "      <td>3</td>\n",
              "      <td>0</td>\n",
              "    </tr>\n",
              "    <tr>\n",
              "      <th>299</th>\n",
              "      <td>45</td>\n",
              "      <td>1</td>\n",
              "      <td>3</td>\n",
              "      <td>0</td>\n",
              "      <td>1</td>\n",
              "      <td>0</td>\n",
              "      <td>1</td>\n",
              "      <td>0</td>\n",
              "      <td>3</td>\n",
              "      <td>0</td>\n",
              "    </tr>\n",
              "    <tr>\n",
              "      <th>300</th>\n",
              "      <td>68</td>\n",
              "      <td>1</td>\n",
              "      <td>0</td>\n",
              "      <td>1</td>\n",
              "      <td>1</td>\n",
              "      <td>0</td>\n",
              "      <td>1</td>\n",
              "      <td>2</td>\n",
              "      <td>3</td>\n",
              "      <td>0</td>\n",
              "    </tr>\n",
              "    <tr>\n",
              "      <th>301</th>\n",
              "      <td>57</td>\n",
              "      <td>1</td>\n",
              "      <td>0</td>\n",
              "      <td>0</td>\n",
              "      <td>1</td>\n",
              "      <td>1</td>\n",
              "      <td>1</td>\n",
              "      <td>1</td>\n",
              "      <td>3</td>\n",
              "      <td>0</td>\n",
              "    </tr>\n",
              "    <tr>\n",
              "      <th>302</th>\n",
              "      <td>57</td>\n",
              "      <td>0</td>\n",
              "      <td>1</td>\n",
              "      <td>0</td>\n",
              "      <td>0</td>\n",
              "      <td>0</td>\n",
              "      <td>1</td>\n",
              "      <td>1</td>\n",
              "      <td>2</td>\n",
              "      <td>0</td>\n",
              "    </tr>\n",
              "  </tbody>\n",
              "</table>\n",
              "<p>303 rows × 10 columns</p>\n",
              "</div>"
            ],
            "text/plain": [
              "     age  sex  cp  fbs  restecg  exang  slope  ca  thal  target\n",
              "0     63    1   3    1        0      0      0   0     1       1\n",
              "1     37    1   2    0        1      0      0   0     2       1\n",
              "2     41    0   1    0        0      0      2   0     2       1\n",
              "3     56    1   1    0        1      0      2   0     2       1\n",
              "4     57    0   0    0        1      1      2   0     2       1\n",
              "..   ...  ...  ..  ...      ...    ...    ...  ..   ...     ...\n",
              "298   57    0   0    0        1      1      1   0     3       0\n",
              "299   45    1   3    0        1      0      1   0     3       0\n",
              "300   68    1   0    1        1      0      1   2     3       0\n",
              "301   57    1   0    0        1      1      1   1     3       0\n",
              "302   57    0   1    0        0      0      1   1     2       0\n",
              "\n",
              "[303 rows x 10 columns]"
            ]
          },
          "metadata": {},
          "execution_count": 3
        }
      ]
    },
    {
      "cell_type": "code",
      "metadata": {
        "id": "V7WYWeR3StYr",
        "colab": {
          "base_uri": "https://localhost:8080/",
          "height": 72
        },
        "outputId": "75b658e9-3a5c-4fde-b08f-5de9d8ee4ec6"
      },
      "source": [
        "#These are the meanings of above features in the dataset\n",
        "'''\n",
        "age\n",
        "sex\n",
        "chest pain type (4 values)\n",
        "resting blood pressure\n",
        "serum cholestoral in mg/dl\n",
        "fasting blood sugar > 120 mg/dl\n",
        "resting electrocardiographic results (values 0,1,2)\n",
        "maximum heart rate achieved\n",
        "exercise induced angina\n",
        "oldpeak = ST depression induced by exercise relative to rest\n",
        "the slope of the peak exercise ST segment\n",
        "number of major vessels (0-3) colored by flourosopy\n",
        "thal: 3 = normal; 6 = fixed defect; 7 = reversable defect\n",
        "'''"
      ],
      "execution_count": 4,
      "outputs": [
        {
          "output_type": "execute_result",
          "data": {
            "application/vnd.google.colaboratory.intrinsic+json": {
              "type": "string"
            },
            "text/plain": [
              "'\\nage\\nsex\\nchest pain type (4 values)\\nresting blood pressure\\nserum cholestoral in mg/dl\\nfasting blood sugar > 120 mg/dl\\nresting electrocardiographic results (values 0,1,2)\\nmaximum heart rate achieved\\nexercise induced angina\\noldpeak = ST depression induced by exercise relative to rest\\nthe slope of the peak exercise ST segment\\nnumber of major vessels (0-3) colored by flourosopy\\nthal: 3 = normal; 6 = fixed defect; 7 = reversable defect\\n'"
            ]
          },
          "metadata": {},
          "execution_count": 4
        }
      ]
    },
    {
      "cell_type": "code",
      "metadata": {
        "id": "8ddfRhWRS7vx",
        "colab": {
          "base_uri": "https://localhost:8080/",
          "height": 206
        },
        "outputId": "5c08d425-0eb6-4ee8-a794-b9e238aa9dda"
      },
      "source": [
        "# Divide the age feature  into groups \n",
        "# Group the data based on age (<30 , range(30,40) , range(40,50) ,  range(50,60) , range(60,70) , >=70 )\n",
        "#              = [ -1 ,     0        ,     1        ,         2     ,          3   ,   4   ]\n",
        "\n",
        "# Write code here\n",
        "for a in range(len(dataset)):\n",
        "    if dataset.iloc[a]['age'] < 30:\n",
        "        dataset.iloc[a]['age'] = -1\n",
        "    elif dataset.iloc[a]['age'] in range(30,40):\n",
        "        dataset.iloc[a]['age'] = 0\n",
        "    elif dataset.iloc[a]['age'] in range(40,50):\n",
        "        dataset.iloc[a]['age'] = 1\n",
        "    elif dataset.iloc[a]['age'] in range(50,60):\n",
        "        dataset.iloc[a]['age'] = 2\n",
        "    elif dataset.iloc[a]['age'] in range(60,70):\n",
        "        dataset.iloc[a]['age'] = 3\n",
        "    elif dataset.iloc[a]['age'] >= 70:\n",
        "        dataset.iloc[a]['age'] = 4      \n",
        "dataset.head()"
      ],
      "execution_count": 5,
      "outputs": [
        {
          "output_type": "execute_result",
          "data": {
            "text/html": [
              "<div>\n",
              "<style scoped>\n",
              "    .dataframe tbody tr th:only-of-type {\n",
              "        vertical-align: middle;\n",
              "    }\n",
              "\n",
              "    .dataframe tbody tr th {\n",
              "        vertical-align: top;\n",
              "    }\n",
              "\n",
              "    .dataframe thead th {\n",
              "        text-align: right;\n",
              "    }\n",
              "</style>\n",
              "<table border=\"1\" class=\"dataframe\">\n",
              "  <thead>\n",
              "    <tr style=\"text-align: right;\">\n",
              "      <th></th>\n",
              "      <th>age</th>\n",
              "      <th>sex</th>\n",
              "      <th>cp</th>\n",
              "      <th>fbs</th>\n",
              "      <th>restecg</th>\n",
              "      <th>exang</th>\n",
              "      <th>slope</th>\n",
              "      <th>ca</th>\n",
              "      <th>thal</th>\n",
              "      <th>target</th>\n",
              "    </tr>\n",
              "  </thead>\n",
              "  <tbody>\n",
              "    <tr>\n",
              "      <th>0</th>\n",
              "      <td>3</td>\n",
              "      <td>1</td>\n",
              "      <td>3</td>\n",
              "      <td>1</td>\n",
              "      <td>0</td>\n",
              "      <td>0</td>\n",
              "      <td>0</td>\n",
              "      <td>0</td>\n",
              "      <td>1</td>\n",
              "      <td>1</td>\n",
              "    </tr>\n",
              "    <tr>\n",
              "      <th>1</th>\n",
              "      <td>0</td>\n",
              "      <td>1</td>\n",
              "      <td>2</td>\n",
              "      <td>0</td>\n",
              "      <td>1</td>\n",
              "      <td>0</td>\n",
              "      <td>0</td>\n",
              "      <td>0</td>\n",
              "      <td>2</td>\n",
              "      <td>1</td>\n",
              "    </tr>\n",
              "    <tr>\n",
              "      <th>2</th>\n",
              "      <td>1</td>\n",
              "      <td>0</td>\n",
              "      <td>1</td>\n",
              "      <td>0</td>\n",
              "      <td>0</td>\n",
              "      <td>0</td>\n",
              "      <td>2</td>\n",
              "      <td>0</td>\n",
              "      <td>2</td>\n",
              "      <td>1</td>\n",
              "    </tr>\n",
              "    <tr>\n",
              "      <th>3</th>\n",
              "      <td>2</td>\n",
              "      <td>1</td>\n",
              "      <td>1</td>\n",
              "      <td>0</td>\n",
              "      <td>1</td>\n",
              "      <td>0</td>\n",
              "      <td>2</td>\n",
              "      <td>0</td>\n",
              "      <td>2</td>\n",
              "      <td>1</td>\n",
              "    </tr>\n",
              "    <tr>\n",
              "      <th>4</th>\n",
              "      <td>2</td>\n",
              "      <td>0</td>\n",
              "      <td>0</td>\n",
              "      <td>0</td>\n",
              "      <td>1</td>\n",
              "      <td>1</td>\n",
              "      <td>2</td>\n",
              "      <td>0</td>\n",
              "      <td>2</td>\n",
              "      <td>1</td>\n",
              "    </tr>\n",
              "  </tbody>\n",
              "</table>\n",
              "</div>"
            ],
            "text/plain": [
              "   age  sex  cp  fbs  restecg  exang  slope  ca  thal  target\n",
              "0    3    1   3    1        0      0      0   0     1       1\n",
              "1    0    1   2    0        1      0      0   0     2       1\n",
              "2    1    0   1    0        0      0      2   0     2       1\n",
              "3    2    1   1    0        1      0      2   0     2       1\n",
              "4    2    0   0    0        1      1      2   0     2       1"
            ]
          },
          "metadata": {},
          "execution_count": 5
        }
      ]
    },
    {
      "cell_type": "code",
      "metadata": {
        "id": "wGT4FriITDRv"
      },
      "source": [
        "# QUESTION -1 :- (1mark)\n",
        "#       Bayes theorm \n",
        "#       Find the following from the above data set \n",
        "#           - Find P(\"cp\"=1,\"thal\"=2,\"slope\"=2 / Y=1) i.e.find the probability of ( \"cp\"=1 and \"thal\"=2 and \"slope\"=2 ) given that \"target\"=1\n",
        "#       Assign your answer to ans[-1]"
      ],
      "execution_count": 6,
      "outputs": []
    },
    {
      "cell_type": "code",
      "metadata": {
        "id": "j-S6EAtsTGkp",
        "colab": {
          "base_uri": "https://localhost:8080/"
        },
        "outputId": "127ca573-dd19-4ba4-b8c2-42e9a06f1f26"
      },
      "source": [
        "#Write code here\n",
        "def P_xy(feat, val, y):\n",
        "    return len(dataset[(dataset[feat]==val) & (dataset['target']==y)])/len(dataset[dataset['target']==y])\n",
        "P = P_xy('cp',1,1)*P_xy('thal',2,1)*P_xy('slope',2,1)\n",
        "print(P)"
      ],
      "execution_count": 7,
      "outputs": [
        {
          "output_type": "stream",
          "name": "stdout",
          "text": [
            "0.12695773158583074\n"
          ]
        }
      ]
    },
    {
      "cell_type": "code",
      "metadata": {
        "id": "bvqK719GTOKz"
      },
      "source": [
        "#Write your answer here\n",
        "ans[-1]= P"
      ],
      "execution_count": 8,
      "outputs": []
    },
    {
      "cell_type": "code",
      "metadata": {
        "id": "ir_vfuHsTQdj"
      },
      "source": [
        "# QUESTION -2 :- (1mark)\n",
        "#       Find the prior distribution on the whole above data set , i.e. P(Y=1) and P(Y=0)\n",
        "#       Enter value of P(Y=1) in ans[0]"
      ],
      "execution_count": 9,
      "outputs": []
    },
    {
      "cell_type": "code",
      "metadata": {
        "id": "G9THBVeKTVxL"
      },
      "source": [
        "# Write your code here\n",
        "#P(Y)\n",
        "#Prior distribution\n",
        "P_Y1 = len(dataset[dataset['target']==1])/len(dataset)\n",
        "P_Y0 = len(dataset[dataset['target']==0])/len(dataset)"
      ],
      "execution_count": 10,
      "outputs": []
    },
    {
      "cell_type": "code",
      "metadata": {
        "id": "nf4lK5-gTXzn"
      },
      "source": [
        "# Enter your answer here\n",
        "ans[0]= P_Y1"
      ],
      "execution_count": 11,
      "outputs": []
    },
    {
      "cell_type": "code",
      "metadata": {
        "id": "8ITQ0S4cTah0"
      },
      "source": [
        "# QUESTION -3:- (3marks)\n",
        "#         Find the class conditional distribution on the above data set i.e. find P(X/Y)\n",
        "#         Note: If class conditional probability = 0 assign 0.00000000000000001 (a low value) \n",
        "#         Find the class conditional probability of the feature \"slope\"= 0,1,2 when \"target\"=0 i.e. \n",
        "# P(X(slope)=i/Y=0) where i=0,1,2\n",
        "#         Assign the answer to ans[1] in form of a list as [P(X(slope)=0/Y=0) , P(X(slope)=1/Y=0) ,\n",
        "# P(X(slope)=2/Y=0)]"
      ],
      "execution_count": 12,
      "outputs": []
    },
    {
      "cell_type": "code",
      "metadata": {
        "id": "Vy8IWj_wTfVI"
      },
      "source": [
        "#Write your code below\n",
        "#Class conditional distribution\n",
        "#P(x/y)\n",
        "P_XY = []\n",
        "for i in range(0,3):\n",
        "    P_XY.append(P_xy('slope',i,0))"
      ],
      "execution_count": 13,
      "outputs": []
    },
    {
      "cell_type": "code",
      "metadata": {
        "id": "SwGyViZZThMw"
      },
      "source": [
        "# Assign your answer here\n",
        "ans[1]= P_XY"
      ],
      "execution_count": 14,
      "outputs": []
    },
    {
      "cell_type": "code",
      "metadata": {
        "id": "UhrHktcrToq5"
      },
      "source": [
        "# QUESTION - 4:- (3marks)\n",
        "#         Find the posterior distribution of the above dataset\n",
        "#         i.e. Find P(Y/X) \n",
        "#         For X={\"age\":-1,'sex': 0,'cp':0 ,'fbs':1,'restecg':1,'exang':1,'slope':2,'ca':1,'thal':1}\n",
        "#             - Find the label value (1 or 0) and also the respective confidence also the value of \n",
        "#               k in {  P(Y/X)=k*P(X1/Y)*P(X2/Y)*P(X3/Y)*P(X4/Y)......*P(Xn/Y)*P(Y) for n features   }\n",
        "#         eg: if the answer is Y=0 with confidence =0.89 and k= 2100.8\n",
        "#             your answer should be ans[2]=[0,0.89,2100.8]"
      ],
      "execution_count": 15,
      "outputs": []
    },
    {
      "cell_type": "code",
      "metadata": {
        "id": "xgvSL0mGTq13"
      },
      "source": [
        "#Write code here\n",
        "# posterior distribution\n",
        "#P(y/x)\n",
        "\n",
        "X={'age':-1,'sex': 0,'cp':0 ,'fbs':1,'restecg':1,'exang':1,'slope':2,'ca':1,'thal':1}\n",
        "k = 1\n",
        "for key in X:\n",
        "    k *= len(dataset)/len(dataset[dataset[key] == X[key]])\n",
        "maxm = 0\n",
        "yPred = -1\n",
        "for i in range(0,2):\n",
        "    p = 1\n",
        "    for key in X:\n",
        "        p *= P_xy(key,X[key],i)\n",
        "    if p>maxm:\n",
        "        maxm = p\n",
        "        yPred = i"
      ],
      "execution_count": 16,
      "outputs": []
    },
    {
      "cell_type": "code",
      "metadata": {
        "id": "wOWQPZ91TxIO"
      },
      "source": [
        "#Write your answers here\n",
        "ans[2]= [yPred, k*maxm, k]"
      ],
      "execution_count": 17,
      "outputs": []
    },
    {
      "cell_type": "code",
      "metadata": {
        "id": "ObEnKPLzTy_M"
      },
      "source": [
        "# Splitting the data for fitting a library naive bayes model from sklearn\n",
        "# Use train_test_split to split the data\n",
        "\n",
        "# Split the data into train and test (train-90% and test-10%)\n",
        "# Strictly use (randon_state = 42) in train_test_split ,so that your answer can be evaluated\n",
        "\n",
        "# Write your code here \n",
        "from sklearn.model_selection import train_test_split\n",
        "X = dataset[['age','sex','cp','fbs','restecg','exang','slope','ca','thal']]\n",
        "y = dataset[['target']]\n",
        "X_train, X_test, y_train, y_test = train_test_split(X,y,test_size = 0.1, random_state = 42)\n"
      ],
      "execution_count": 18,
      "outputs": []
    },
    {
      "cell_type": "code",
      "metadata": {
        "id": "MfGPAaQIUOqR"
      },
      "source": [
        "# QUESTION - 5 :- (2marks)\n",
        "#         Import the  GaussianNB  model from sklearn and find the no of wrong predictions on the testing set\n",
        "# i.e. train and fit the model on the training set and predict the output if the heart disease exists or not \n",
        "#         Compare the predicted and the testing labels and enter the no.of wrongly predicted lables in ans[3]   "
      ],
      "execution_count": 19,
      "outputs": []
    },
    {
      "cell_type": "code",
      "metadata": {
        "id": "C28MlyRXUSX0"
      },
      "source": [
        "#Importing the Gaussian naive bayes classifier model from sklearn\n",
        "\n",
        "from sklearn.naive_bayes import GaussianNB\n",
        "\n",
        "#Write your code below\n",
        "clf = GaussianNB()\n",
        "clf.fit(X_train,y_train['target'])\n",
        "y_pred = clf.predict(X_test)\n",
        "count = 0\n",
        "for t in range(len(y_test)):\n",
        "    if (y_test.iloc[t]['target'] != y_pred[t]):\n",
        "        count+=1"
      ],
      "execution_count": 20,
      "outputs": []
    },
    {
      "cell_type": "code",
      "metadata": {
        "id": "OiP39HLlUWDH"
      },
      "source": [
        "#Write your answers here\n",
        "ans[3]=count"
      ],
      "execution_count": 21,
      "outputs": []
    },
    {
      "cell_type": "code",
      "metadata": {
        "id": "mN6W_R22aj9p"
      },
      "source": [
        "import json\n",
        "ans = [str(item) for item in ans]\n",
        "\n",
        "filename = \"riya21april@gmail.com_Maitri_Das_NaiveBayes\"\n",
        "\n",
        "# Eg if your name is Saurav Joshi and email id is sauravjoshi123@gmail.com, filename becomes\n",
        "# filename = sauravjoshi123@gmail.com_Saurav_Joshi_NaiveBayes"
      ],
      "execution_count": 24,
      "outputs": []
    },
    {
      "cell_type": "markdown",
      "metadata": {
        "id": "P3OBD7siaj9r"
      },
      "source": [
        "## Do not change anything below!!\n",
        "- Make sure you have changed the above variable \"filename\" with the correct value. Do not change anything below!!"
      ]
    },
    {
      "cell_type": "code",
      "metadata": {
        "id": "1SMHgP_Laj9x",
        "colab": {
          "base_uri": "https://localhost:8080/"
        },
        "outputId": "04b14fa4-83ae-46c6-e6fc-4e5ed8fa5d93"
      },
      "source": [
        "from importlib import import_module\n",
        "import os\n",
        "from pprint import pprint\n",
        "\n",
        "findScore = import_module('findScore')\n",
        "response = findScore.main(ans)\n",
        "response['details'] = filename\n",
        "with open(f'evaluation_{filename}.json', 'w') as outfile:\n",
        "    json.dump(response, outfile)\n",
        "pprint(response)"
      ],
      "execution_count": 25,
      "outputs": [
        {
          "output_type": "stream",
          "name": "stdout",
          "text": [
            "{'Comments': 'Please make sure the Python script you are submitting is not '\n",
            "             'having errors. Try running before submitting',\n",
            " 'Message': 'Successfully submitted! Thanks for taking the exercise',\n",
            " 'details': 'riya21april@gmail.com_Maitri_Das_NaiveBayes',\n",
            " 'status': 'Success'}\n"
          ]
        }
      ]
    },
    {
      "cell_type": "code",
      "metadata": {
        "id": "d5sANTMaaj90"
      },
      "source": [
        ""
      ],
      "execution_count": null,
      "outputs": []
    }
  ]
}