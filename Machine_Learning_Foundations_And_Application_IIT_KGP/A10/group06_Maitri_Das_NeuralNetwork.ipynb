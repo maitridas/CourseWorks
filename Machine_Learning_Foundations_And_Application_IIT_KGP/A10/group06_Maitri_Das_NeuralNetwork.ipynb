{
  "nbformat": 4,
  "nbformat_minor": 0,
  "metadata": {
    "accelerator": "GPU",
    "colab": {
      "name": "group06_Maitri_Das_NeuralNetwork.ipynb",
      "provenance": [],
      "collapsed_sections": [
        "953trjzHXJTj"
      ]
    },
    "kernelspec": {
      "display_name": "Python 3",
      "language": "python",
      "name": "python3"
    },
    "language_info": {
      "codemirror_mode": {
        "name": "ipython",
        "version": 3
      },
      "file_extension": ".py",
      "mimetype": "text/x-python",
      "name": "python",
      "nbconvert_exporter": "python",
      "pygments_lexer": "ipython3",
      "version": "3.7.6"
    }
  },
  "cells": [
    {
      "cell_type": "markdown",
      "metadata": {
        "id": "953trjzHXJTj"
      },
      "source": [
        "# Downloading and pre-processing"
      ]
    },
    {
      "cell_type": "markdown",
      "metadata": {
        "id": "CMhY-3OePngK"
      },
      "source": [
        "Importing neccesary libraries"
      ]
    },
    {
      "cell_type": "code",
      "metadata": {
        "id": "n7TjLRasNJSa"
      },
      "source": [
        "import numpy as np\n",
        "import pandas as pd       \n",
        "import tensorflow as tf\n",
        "import matplotlib.pyplot as plt\n",
        "from sklearn.preprocessing import LabelBinarizer\n",
        "from tensorflow.keras.models import Sequential\n",
        "from tensorflow.keras.layers import Flatten\n",
        "from tensorflow.keras.layers import Dense\n",
        "from tensorflow.keras.optimizers import SGD\n",
        "from tensorflow.keras.datasets import mnist"
      ],
      "execution_count": 1,
      "outputs": []
    },
    {
      "cell_type": "markdown",
      "metadata": {
        "id": "jrl8kTMNPq3f"
      },
      "source": [
        "Loading MNIST data"
      ]
    },
    {
      "cell_type": "code",
      "metadata": {
        "colab": {
          "base_uri": "https://localhost:8080/"
        },
        "id": "2MZnOyokP0FI",
        "outputId": "043b24a2-9a70-49f3-bb1c-d10188771bbe"
      },
      "source": [
        "((trainX, trainY), (testX, testY)) = mnist.load_data()\n",
        "print('Shape of training data',trainX.shape)\n",
        "print('Shape of test data',testX.shape)\n",
        "print('Shape of labels',testY.shape)"
      ],
      "execution_count": 2,
      "outputs": [
        {
          "output_type": "stream",
          "name": "stdout",
          "text": [
            "Downloading data from https://storage.googleapis.com/tensorflow/tf-keras-datasets/mnist.npz\n",
            "11493376/11490434 [==============================] - 0s 0us/step\n",
            "11501568/11490434 [==============================] - 0s 0us/step\n",
            "Shape of training data (60000, 28, 28)\n",
            "Shape of test data (10000, 28, 28)\n",
            "Shape of labels (10000,)\n"
          ]
        }
      ]
    },
    {
      "cell_type": "markdown",
      "metadata": {
        "id": "fSG2xRnAQW3m"
      },
      "source": [
        "Scaling the data"
      ]
    },
    {
      "cell_type": "code",
      "metadata": {
        "id": "-SB3i_p0QYLY"
      },
      "source": [
        "trainX = trainX.astype(\"float32\") / 255.0\n",
        "testX = testX.astype(\"float32\") / 255.0"
      ],
      "execution_count": 3,
      "outputs": []
    },
    {
      "cell_type": "markdown",
      "metadata": {
        "id": "D6T-qJrdQgc-"
      },
      "source": [
        "Transforming the labels to one hot encoding format"
      ]
    },
    {
      "cell_type": "code",
      "metadata": {
        "colab": {
          "base_uri": "https://localhost:8080/"
        },
        "id": "H6x2xAm-QYpr",
        "outputId": "0d93d731-f79f-41bc-b030-870983b01648"
      },
      "source": [
        "lb = LabelBinarizer()\n",
        "trainY = lb.fit_transform(trainY)\n",
        "testY = lb.transform(testY)\n",
        "\n",
        "print('Label shape', testY.shape)"
      ],
      "execution_count": 4,
      "outputs": [
        {
          "output_type": "stream",
          "name": "stdout",
          "text": [
            "Label shape (10000, 10)\n"
          ]
        }
      ]
    },
    {
      "cell_type": "markdown",
      "metadata": {
        "id": "YLhEPgd0XE-k"
      },
      "source": [
        "# Single Layer Network"
      ]
    },
    {
      "cell_type": "markdown",
      "metadata": {
        "id": "mfeV6MArRLJU"
      },
      "source": [
        "Creating neural network with one hidden layer"
      ]
    },
    {
      "cell_type": "code",
      "metadata": {
        "id": "MrKc1wJPRPMv"
      },
      "source": [
        "shallowNet = Sequential()\n",
        "shallowNet.add(Flatten(input_shape=(28,28)))\n",
        "shallowNet.add(Dense(100, activation=\"relu\"))\n",
        "shallowNet.add(Dense(10, activation=\"softmax\"))\n",
        "shallowNet.compile(loss=\"categorical_crossentropy\", optimizer=SGD(0.01), metrics=[\"accuracy\"])"
      ],
      "execution_count": 5,
      "outputs": []
    },
    {
      "cell_type": "markdown",
      "metadata": {
        "id": "7JYe9SZgTcV_"
      },
      "source": [
        "Training"
      ]
    },
    {
      "cell_type": "code",
      "metadata": {
        "colab": {
          "base_uri": "https://localhost:8080/"
        },
        "id": "kmemPkJlTIsF",
        "outputId": "023aae54-ee2d-4df7-a21b-060b16d5108f"
      },
      "source": [
        "numEpochs = 15\n",
        "HShallow = shallowNet.fit(trainX, trainY, validation_data=(testX, testY), epochs=numEpochs)"
      ],
      "execution_count": 6,
      "outputs": [
        {
          "output_type": "stream",
          "name": "stdout",
          "text": [
            "Epoch 1/15\n",
            "1875/1875 [==============================] - 9s 3ms/step - loss: 0.6672 - accuracy: 0.8296 - val_loss: 0.3625 - val_accuracy: 0.9022\n",
            "Epoch 2/15\n",
            "1875/1875 [==============================] - 6s 3ms/step - loss: 0.3404 - accuracy: 0.9044 - val_loss: 0.2963 - val_accuracy: 0.9181\n",
            "Epoch 3/15\n",
            "1875/1875 [==============================] - 6s 3ms/step - loss: 0.2921 - accuracy: 0.9179 - val_loss: 0.2668 - val_accuracy: 0.9267\n",
            "Epoch 4/15\n",
            "1875/1875 [==============================] - 5s 3ms/step - loss: 0.2621 - accuracy: 0.9266 - val_loss: 0.2440 - val_accuracy: 0.9329\n",
            "Epoch 5/15\n",
            "1875/1875 [==============================] - 5s 3ms/step - loss: 0.2391 - accuracy: 0.9335 - val_loss: 0.2258 - val_accuracy: 0.9354\n",
            "Epoch 6/15\n",
            "1875/1875 [==============================] - 5s 3ms/step - loss: 0.2207 - accuracy: 0.9380 - val_loss: 0.2111 - val_accuracy: 0.9399\n",
            "Epoch 7/15\n",
            "1875/1875 [==============================] - 5s 3ms/step - loss: 0.2056 - accuracy: 0.9425 - val_loss: 0.1970 - val_accuracy: 0.9430\n",
            "Epoch 8/15\n",
            "1875/1875 [==============================] - 6s 3ms/step - loss: 0.1928 - accuracy: 0.9458 - val_loss: 0.1869 - val_accuracy: 0.9451\n",
            "Epoch 9/15\n",
            "1875/1875 [==============================] - 6s 3ms/step - loss: 0.1817 - accuracy: 0.9487 - val_loss: 0.1778 - val_accuracy: 0.9482\n",
            "Epoch 10/15\n",
            "1875/1875 [==============================] - 6s 3ms/step - loss: 0.1716 - accuracy: 0.9515 - val_loss: 0.1692 - val_accuracy: 0.9504\n",
            "Epoch 11/15\n",
            "1875/1875 [==============================] - 6s 3ms/step - loss: 0.1629 - accuracy: 0.9548 - val_loss: 0.1616 - val_accuracy: 0.9525\n",
            "Epoch 12/15\n",
            "1875/1875 [==============================] - 6s 3ms/step - loss: 0.1551 - accuracy: 0.9569 - val_loss: 0.1555 - val_accuracy: 0.9541\n",
            "Epoch 13/15\n",
            "1875/1875 [==============================] - 6s 3ms/step - loss: 0.1479 - accuracy: 0.9589 - val_loss: 0.1502 - val_accuracy: 0.9555\n",
            "Epoch 14/15\n",
            "1875/1875 [==============================] - 6s 3ms/step - loss: 0.1416 - accuracy: 0.9608 - val_loss: 0.1445 - val_accuracy: 0.9564\n",
            "Epoch 15/15\n",
            "1875/1875 [==============================] - 6s 3ms/step - loss: 0.1354 - accuracy: 0.9627 - val_loss: 0.1405 - val_accuracy: 0.9580\n"
          ]
        }
      ]
    },
    {
      "cell_type": "markdown",
      "metadata": {
        "id": "YuL1E6qDWpJ5"
      },
      "source": [
        "Plotting training history"
      ]
    },
    {
      "cell_type": "code",
      "metadata": {
        "colab": {
          "base_uri": "https://localhost:8080/",
          "height": 295
        },
        "id": "NsP-SR56Wr5t",
        "outputId": "1be3dcea-56a0-4541-e6ad-89bc4d7c72f3"
      },
      "source": [
        "plt.figure()\n",
        "plt.plot(np.arange(0, numEpochs), HShallow.history[\"loss\"], label=\"train_loss\")\n",
        "plt.plot(np.arange(0, numEpochs), HShallow.history[\"val_loss\"], label=\"val_loss\")\n",
        "plt.plot(np.arange(0, numEpochs), HShallow.history[\"accuracy\"], label=\"train_acc\")\n",
        "plt.plot(np.arange(0, numEpochs), HShallow.history[\"val_accuracy\"], label=\"val_acc\")\n",
        "plt.title(\"Training Loss and Accuracy\")\n",
        "plt.xlabel(\"Epoch #\")\n",
        "plt.ylabel(\"Loss/Accuracy\")\n",
        "plt.legend()\n",
        "plt.show()"
      ],
      "execution_count": 7,
      "outputs": [
        {
          "output_type": "display_data",
          "data": {
            "image/png": "[encoded data removed]",
            "text/plain": [
              "<Figure size 432x288 with 1 Axes>"
            ]
          },
          "metadata": {
            "needs_background": "light"
          }
        }
      ]
    },
    {
      "cell_type": "markdown",
      "metadata": {
        "id": "HRF0fM3XXVno"
      },
      "source": [
        "# Deep Network (10 Layers)"
      ]
    },
    {
      "cell_type": "markdown",
      "metadata": {
        "id": "UV9RktErXzm5"
      },
      "source": [
        "Creating neural network with ten hidden layer"
      ]
    },
    {
      "cell_type": "code",
      "metadata": {
        "id": "0bYIhtnLXzm5"
      },
      "source": [
        "deepNet = Sequential()\n",
        "deepNet.add(Flatten(input_shape=(28,28)))\n",
        "deepNet.add(Dense(10, activation=\"relu\"))\n",
        "deepNet.add(Dense(10, activation=\"relu\"))\n",
        "deepNet.add(Dense(10, activation=\"relu\"))\n",
        "deepNet.add(Dense(10, activation=\"relu\"))\n",
        "deepNet.add(Dense(10, activation=\"relu\"))\n",
        "deepNet.add(Dense(10, activation=\"relu\"))\n",
        "deepNet.add(Dense(10, activation=\"relu\"))\n",
        "deepNet.add(Dense(10, activation=\"relu\"))\n",
        "deepNet.add(Dense(10, activation=\"relu\"))\n",
        "deepNet.add(Dense(10, activation=\"relu\"))\n",
        "deepNet.add(Dense(10, activation=\"softmax\"))\n",
        "deepNet.compile(loss=\"categorical_crossentropy\", optimizer=SGD(0.01), metrics=[\"accuracy\"])"
      ],
      "execution_count": 8,
      "outputs": []
    },
    {
      "cell_type": "markdown",
      "metadata": {
        "id": "haHw-FumZs01"
      },
      "source": [
        "Training"
      ]
    },
    {
      "cell_type": "code",
      "metadata": {
        "colab": {
          "base_uri": "https://localhost:8080/"
        },
        "id": "ebrnYT_AXZir",
        "outputId": "ee02918d-cabf-48fd-cdfc-6ec8f31c71a1"
      },
      "source": [
        "HDeep = deepNet.fit(trainX, trainY, validation_data=(testX, testY), epochs=numEpochs)"
      ],
      "execution_count": 9,
      "outputs": [
        {
          "output_type": "stream",
          "name": "stdout",
          "text": [
            "Epoch 1/15\n",
            "1875/1875 [==============================] - 9s 5ms/step - loss: 2.2972 - accuracy: 0.1333 - val_loss: 2.2686 - val_accuracy: 0.1472\n",
            "Epoch 2/15\n",
            "1875/1875 [==============================] - 8s 4ms/step - loss: 1.9621 - accuracy: 0.2239 - val_loss: 1.7565 - val_accuracy: 0.2914\n",
            "Epoch 3/15\n",
            "1875/1875 [==============================] - 8s 4ms/step - loss: 1.6814 - accuracy: 0.3318 - val_loss: 1.5717 - val_accuracy: 0.4154\n",
            "Epoch 4/15\n",
            "1875/1875 [==============================] - 8s 4ms/step - loss: 1.4967 - accuracy: 0.4432 - val_loss: 1.4205 - val_accuracy: 0.4815\n",
            "Epoch 5/15\n",
            "1875/1875 [==============================] - 8s 4ms/step - loss: 1.2329 - accuracy: 0.5462 - val_loss: 1.0813 - val_accuracy: 0.5989\n",
            "Epoch 6/15\n",
            "1875/1875 [==============================] - 8s 4ms/step - loss: 0.9879 - accuracy: 0.6377 - val_loss: 0.8854 - val_accuracy: 0.6914\n",
            "Epoch 7/15\n",
            "1875/1875 [==============================] - 8s 4ms/step - loss: 0.8580 - accuracy: 0.7056 - val_loss: 0.7875 - val_accuracy: 0.7460\n",
            "Epoch 8/15\n",
            "1875/1875 [==============================] - 8s 4ms/step - loss: 0.7453 - accuracy: 0.7531 - val_loss: 0.7013 - val_accuracy: 0.7766\n",
            "Epoch 9/15\n",
            "1875/1875 [==============================] - 8s 4ms/step - loss: 0.6755 - accuracy: 0.7768 - val_loss: 0.6604 - val_accuracy: 0.7828\n",
            "Epoch 10/15\n",
            "1875/1875 [==============================] - 8s 4ms/step - loss: 0.6240 - accuracy: 0.7990 - val_loss: 0.5919 - val_accuracy: 0.8335\n",
            "Epoch 11/15\n",
            "1875/1875 [==============================] - 8s 5ms/step - loss: 0.5596 - accuracy: 0.8533 - val_loss: 0.5183 - val_accuracy: 0.8734\n",
            "Epoch 12/15\n",
            "1875/1875 [==============================] - 8s 4ms/step - loss: 0.4833 - accuracy: 0.8787 - val_loss: 0.4752 - val_accuracy: 0.8864\n",
            "Epoch 13/15\n",
            "1875/1875 [==============================] - 8s 4ms/step - loss: 0.4346 - accuracy: 0.8881 - val_loss: 0.4236 - val_accuracy: 0.8934\n",
            "Epoch 14/15\n",
            "1875/1875 [==============================] - 8s 4ms/step - loss: 0.4053 - accuracy: 0.8950 - val_loss: 0.4805 - val_accuracy: 0.8755\n",
            "Epoch 15/15\n",
            "1875/1875 [==============================] - 8s 4ms/step - loss: 0.3841 - accuracy: 0.8985 - val_loss: 0.4053 - val_accuracy: 0.8959\n"
          ]
        }
      ]
    },
    {
      "cell_type": "markdown",
      "metadata": {
        "id": "np4Q8Sy2ZuDK"
      },
      "source": [
        "Plotting training history"
      ]
    },
    {
      "cell_type": "code",
      "metadata": {
        "colab": {
          "base_uri": "https://localhost:8080/",
          "height": 295
        },
        "id": "ERrcZx9JZwXx",
        "outputId": "afc67b05-1b4f-4844-f24b-904aacb82450"
      },
      "source": [
        "plt.figure()\n",
        "plt.plot(np.arange(0, numEpochs), HDeep.history[\"loss\"], label=\"train_loss\")\n",
        "plt.plot(np.arange(0, numEpochs), HDeep.history[\"val_loss\"], label=\"val_loss\")\n",
        "plt.plot(np.arange(0, numEpochs), HDeep.history[\"accuracy\"], label=\"train_acc\")\n",
        "plt.plot(np.arange(0, numEpochs), HDeep.history[\"val_accuracy\"], label=\"val_acc\")\n",
        "plt.title(\"Training Loss and Accuracy\")\n",
        "plt.xlabel(\"Epoch #\")\n",
        "plt.ylabel(\"Loss/Accuracy\")\n",
        "plt.legend()\n",
        "plt.show()"
      ],
      "execution_count": 10,
      "outputs": [
        {
          "output_type": "display_data",
          "data": {
            "image/png": "[encoded data removed]",
            "text/plain": [
              "<Figure size 432x288 with 1 Axes>"
            ]
          },
          "metadata": {
            "needs_background": "light"
          }
        }
      ]
    },
    {
      "cell_type": "markdown",
      "metadata": {
        "id": "TICxm3G6a0sp"
      },
      "source": [
        "# Comparison of the two Networks"
      ]
    },
    {
      "cell_type": "markdown",
      "metadata": {
        "id": "IlDivzA8a4-1"
      },
      "source": [
        "Plot of accuracy while training"
      ]
    },
    {
      "cell_type": "code",
      "metadata": {
        "colab": {
          "base_uri": "https://localhost:8080/",
          "height": 295
        },
        "id": "X-RbnDp3a8HP",
        "outputId": "dccd1393-a126-4a92-ff39-e69f9e45ad75"
      },
      "source": [
        "plt.figure()\n",
        "plt.plot(np.arange(0, numEpochs), HDeep.history[\"accuracy\"], label=\"Deep Net Train Accuracy\", c='b')\n",
        "plt.plot(np.arange(0, numEpochs), HDeep.history[\"val_accuracy\"], label=\"Deep Net Val Accuracy\", c='c')\n",
        "plt.plot(np.arange(0, numEpochs), HShallow.history[\"accuracy\"], label=\"Shallow Net Train Accuracy\", c='r')\n",
        "plt.plot(np.arange(0, numEpochs), HShallow.history[\"val_accuracy\"], label=\"Shallow Net Val Accuracy\", c='m')\n",
        "plt.title(\"Training and Validation Accuracy\")\n",
        "plt.xlabel(\"Epoch #\")\n",
        "plt.ylabel(\"Accuracy\")\n",
        "plt.legend()\n",
        "plt.show()"
      ],
      "execution_count": 11,
      "outputs": [
        {
          "output_type": "display_data",
          "data": {
            "image/png": "[encoded data removed]",
            "text/plain": [
              "<Figure size 432x288 with 1 Axes>"
            ]
          },
          "metadata": {
            "needs_background": "light"
          }
        }
      ]
    },
    {
      "cell_type": "markdown",
      "metadata": {
        "id": "_g4cjA_rboLO"
      },
      "source": [
        "Clearly, accuracy of the shallower network is higher than the deeper network for all epochs. Therefore it is the better network out of the two."
      ]
    },
    {
      "cell_type": "markdown",
      "metadata": {
        "id": "5WcqNhvSdXhD"
      },
      "source": [
        "# Comparing features generated at layers in deep-net"
      ]
    },
    {
      "cell_type": "markdown",
      "metadata": {
        "id": "cWqYkDt0deZo"
      },
      "source": [
        "Extracting features of layers 5,7 and 10"
      ]
    },
    {
      "cell_type": "code",
      "metadata": {
        "colab": {
          "base_uri": "https://localhost:8080/"
        },
        "id": "zndpr5qzdj1A",
        "outputId": "e96b05f9-8642-4b37-8ee3-8f5444e301b0"
      },
      "source": [
        "trainLayer5X = tf.keras.Model(deepNet.inputs, deepNet.layers[5].output).predict(trainX)\n",
        "testLayer5X = tf.keras.Model(deepNet.inputs, deepNet.layers[5].output).predict(testX)\n",
        "trainLayer7X = tf.keras.Model(deepNet.inputs, deepNet.layers[7].output).predict(trainX)\n",
        "testLayer7X = tf.keras.Model(deepNet.inputs, deepNet.layers[7].output).predict(testX)\n",
        "trainLayer10X = tf.keras.Model(deepNet.inputs, deepNet.layers[10].output).predict(trainX)\n",
        "testLayer10X = tf.keras.Model(deepNet.inputs, deepNet.layers[10].output).predict(testX)\n",
        "\n",
        "trainLayer5X.shape, trainLayer7X.shape, trainLayer10X.shape"
      ],
      "execution_count": 12,
      "outputs": [
        {
          "output_type": "execute_result",
          "data": {
            "text/plain": [
              "((60000, 10), (60000, 10), (60000, 10))"
            ]
          },
          "metadata": {},
          "execution_count": 12
        }
      ]
    },
    {
      "cell_type": "markdown",
      "metadata": {
        "id": "TA8Rztihhop3"
      },
      "source": [
        "Importing KNN model and accuracy metric"
      ]
    },
    {
      "cell_type": "code",
      "metadata": {
        "id": "70SMxIZMhoV1"
      },
      "source": [
        "from sklearn.neighbors import KNeighborsClassifier\n",
        "from sklearn.metrics import accuracy_score"
      ],
      "execution_count": 13,
      "outputs": []
    },
    {
      "cell_type": "markdown",
      "metadata": {
        "id": "Em-hZWlt-3ML"
      },
      "source": [
        "Training KNN models and getting predictions"
      ]
    },
    {
      "cell_type": "code",
      "metadata": {
        "id": "cCEYbyRT_CK1"
      },
      "source": [
        "knn = KNeighborsClassifier(n_neighbors=15, n_jobs=-1)\n",
        "\n",
        "#for layer 5 features\n",
        "knn.fit(trainLayer5X, trainY)\n",
        "predLayer5 = knn.predict(testLayer5X)\n",
        "\n",
        "#for layer 7 features\n",
        "knn.fit(trainLayer7X, trainY)\n",
        "predLayer7 = knn.predict(testLayer7X)\n",
        "\n",
        "#for layer 5 features\n",
        "knn.fit(trainLayer10X, trainY)\n",
        "predLayer10 = knn.predict(testLayer10X)"
      ],
      "execution_count": 14,
      "outputs": []
    },
    {
      "cell_type": "code",
      "metadata": {
        "colab": {
          "base_uri": "https://localhost:8080/"
        },
        "id": "gvNKN27v_Tfc",
        "outputId": "0437e33c-147c-4218-8ea0-54bd521c6878"
      },
      "source": [
        "print('Accuracy of KNN model trained on features from 5th layer is', accuracy_score(testY, predLayer5))\n",
        "print('Accuracy of KNN model trained on features from 7th layer is', accuracy_score(testY, predLayer7))\n",
        "print('Accuracy of KNN model trained on features from 10th layer is', accuracy_score(testY, predLayer10))"
      ],
      "execution_count": 15,
      "outputs": [
        {
          "output_type": "stream",
          "name": "stdout",
          "text": [
            "Accuracy of KNN model trained on features from 5th layer is 0.8954\n",
            "Accuracy of KNN model trained on features from 7th layer is 0.888\n",
            "Accuracy of KNN model trained on features from 10th layer is 0.8869\n"
          ]
        }
      ]
    },
    {
      "cell_type": "markdown",
      "metadata": {
        "id": "PCtOG2xYIGZ3"
      },
      "source": [
        "As we can see, there is no significant difference between accuracy of KNN model trained on features from layer 5,7 and 10."
      ]
    },
    {
      "cell_type": "code",
      "metadata": {
        "id": "elJ5Y9m2OF4T"
      },
      "source": [
        ""
      ],
      "execution_count": null,
      "outputs": []
    }
  ]
}