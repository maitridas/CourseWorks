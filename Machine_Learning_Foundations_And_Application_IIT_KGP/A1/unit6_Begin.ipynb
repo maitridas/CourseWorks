{
 "cells": [
  {
   "cell_type": "markdown",
   "metadata": {
    "id": "6y8zrasK0r2Y"
   },
   "source": [
    "# **TUTORIAL 6**\n",
    "# Distance Based Classification"
   ]
  },
  {
   "cell_type": "markdown",
   "metadata": {
    "id": "eVEW-aBo4gka"
   },
   "source": [
    "In pattern recognition, the k-nearest neighbors algorithm is a non-parametric method used for classification and regression.It belongs to the supervised learning domain.\n",
    "\n",
    "We will understand it with a practice example, Steps we are going to follow are :\n",
    "\n",
    "1) Import important libraries\n",
    "\n",
    "2) Importing Data\n",
    "\n",
    "3) Encoding\n",
    "\n",
    "4)Training and Test Data\n",
    "\n",
    "5) Visualization of Data\n",
    "\n",
    "6) Nearest Neighbour Classifier\n",
    "\n",
    "7) k Nearest Neighbour\n",
    "\n",
    "8) Nearest Mean Classifier\n",
    "\n",
    "9) Compare Results\n",
    "\n",
    "10) sklearn Library\n",
    "\n",
    "---\n",
    "\n",
    "\n",
    "\n",
    "---\n",
    "\n"
   ]
  },
  {
   "cell_type": "markdown",
   "metadata": {
    "id": "uHdX_UCj8QVO"
   },
   "source": [
    "**1) Importing important libraries**"
   ]
  },
  {
   "cell_type": "code",
   "execution_count": 1,
   "metadata": {
    "id": "Ca48WZPe853i"
   },
   "outputs": [],
   "source": [
    "import pandas as pd\n",
    "import matplotlib.pyplot as plt\n",
    "import numpy as np\n",
    "from sklearn.datasets import load_iris"
   ]
  },
  {
   "cell_type": "markdown",
   "metadata": {
    "id": "Q3ajjX6OI8HC"
   },
   "source": [
    "**2) Importing Data**\n",
    "\n",
    "We will be working on the Iris dataset today."
   ]
  },
  {
   "cell_type": "code",
   "execution_count": 2,
   "metadata": {
    "id": "JVB0atL7Io6K"
   },
   "outputs": [],
   "source": [
    "data = load_iris()\n",
    "df = pd.DataFrame(data.data, columns=data.feature_names)"
   ]
  },
  {
   "cell_type": "code",
   "execution_count": 3,
   "metadata": {
    "colab": {
     "base_uri": "https://localhost:8080/",
     "height": 195
    },
    "id": "XMn096JBRGm2",
    "outputId": "d5203652-53f1-4b56-ee0e-8bd63e93a496"
   },
   "outputs": [
    {
     "data": {
      "text/html": [
       "<div>\n",
       "<style scoped>\n",
       "    .dataframe tbody tr th:only-of-type {\n",
       "        vertical-align: middle;\n",
       "    }\n",
       "\n",
       "    .dataframe tbody tr th {\n",
       "        vertical-align: top;\n",
       "    }\n",
       "\n",
       "    .dataframe thead th {\n",
       "        text-align: right;\n",
       "    }\n",
       "</style>\n",
       "<table border=\"1\" class=\"dataframe\">\n",
       "  <thead>\n",
       "    <tr style=\"text-align: right;\">\n",
       "      <th></th>\n",
       "      <th>sepal length (cm)</th>\n",
       "      <th>sepal width (cm)</th>\n",
       "      <th>petal length (cm)</th>\n",
       "      <th>petal width (cm)</th>\n",
       "    </tr>\n",
       "  </thead>\n",
       "  <tbody>\n",
       "    <tr>\n",
       "      <th>0</th>\n",
       "      <td>5.1</td>\n",
       "      <td>3.5</td>\n",
       "      <td>1.4</td>\n",
       "      <td>0.2</td>\n",
       "    </tr>\n",
       "    <tr>\n",
       "      <th>1</th>\n",
       "      <td>4.9</td>\n",
       "      <td>3.0</td>\n",
       "      <td>1.4</td>\n",
       "      <td>0.2</td>\n",
       "    </tr>\n",
       "    <tr>\n",
       "      <th>2</th>\n",
       "      <td>4.7</td>\n",
       "      <td>3.2</td>\n",
       "      <td>1.3</td>\n",
       "      <td>0.2</td>\n",
       "    </tr>\n",
       "    <tr>\n",
       "      <th>3</th>\n",
       "      <td>4.6</td>\n",
       "      <td>3.1</td>\n",
       "      <td>1.5</td>\n",
       "      <td>0.2</td>\n",
       "    </tr>\n",
       "    <tr>\n",
       "      <th>4</th>\n",
       "      <td>5.0</td>\n",
       "      <td>3.6</td>\n",
       "      <td>1.4</td>\n",
       "      <td>0.2</td>\n",
       "    </tr>\n",
       "  </tbody>\n",
       "</table>\n",
       "</div>"
      ],
      "text/plain": [
       "   sepal length (cm)  sepal width (cm)  petal length (cm)  petal width (cm)\n",
       "0                5.1               3.5                1.4               0.2\n",
       "1                4.9               3.0                1.4               0.2\n",
       "2                4.7               3.2                1.3               0.2\n",
       "3                4.6               3.1                1.5               0.2\n",
       "4                5.0               3.6                1.4               0.2"
      ]
     },
     "execution_count": 3,
     "metadata": {},
     "output_type": "execute_result"
    }
   ],
   "source": [
    "df.head()"
   ]
  },
  {
   "cell_type": "markdown",
   "metadata": {
    "id": "y5S6-mpvKJD-"
   },
   "source": [
    "We will be taking 2 features, 'SepalLengthCm' and 'PetalWidthCm' for classification for easier visualization."
   ]
  },
  {
   "cell_type": "code",
   "execution_count": 4,
   "metadata": {
    "id": "vHbH9RWSRPJ6"
   },
   "outputs": [],
   "source": [
    "# Write the code to choose columns 'SepalLengthCm', 'PetalWidthCm' and 'Species' from the dataframe 'df',\n",
    "# Make a new dataframe 'df_new' and assign the three columns to the new dataframe."
   ]
  },
  {
   "cell_type": "code",
   "execution_count": 5,
   "metadata": {
    "id": "tXXGJrPwRRba"
   },
   "outputs": [],
   "source": [
    "#Write the code below\n",
    "df['Species'] = data.target\n",
    "df_new = df.loc[:,['sepal length (cm)','petal width (cm)','Species']]\n"
   ]
  },
  {
   "cell_type": "code",
   "execution_count": 6,
   "metadata": {
    "id": "aIZ6OtoqZi-m"
   },
   "outputs": [
    {
     "data": {
      "text/html": [
       "<div>\n",
       "<style scoped>\n",
       "    .dataframe tbody tr th:only-of-type {\n",
       "        vertical-align: middle;\n",
       "    }\n",
       "\n",
       "    .dataframe tbody tr th {\n",
       "        vertical-align: top;\n",
       "    }\n",
       "\n",
       "    .dataframe thead th {\n",
       "        text-align: right;\n",
       "    }\n",
       "</style>\n",
       "<table border=\"1\" class=\"dataframe\">\n",
       "  <thead>\n",
       "    <tr style=\"text-align: right;\">\n",
       "      <th></th>\n",
       "      <th>sepal length (cm)</th>\n",
       "      <th>petal width (cm)</th>\n",
       "      <th>Species</th>\n",
       "    </tr>\n",
       "  </thead>\n",
       "  <tbody>\n",
       "    <tr>\n",
       "      <th>0</th>\n",
       "      <td>5.1</td>\n",
       "      <td>0.2</td>\n",
       "      <td>0</td>\n",
       "    </tr>\n",
       "    <tr>\n",
       "      <th>1</th>\n",
       "      <td>4.9</td>\n",
       "      <td>0.2</td>\n",
       "      <td>0</td>\n",
       "    </tr>\n",
       "    <tr>\n",
       "      <th>2</th>\n",
       "      <td>4.7</td>\n",
       "      <td>0.2</td>\n",
       "      <td>0</td>\n",
       "    </tr>\n",
       "    <tr>\n",
       "      <th>3</th>\n",
       "      <td>4.6</td>\n",
       "      <td>0.2</td>\n",
       "      <td>0</td>\n",
       "    </tr>\n",
       "    <tr>\n",
       "      <th>4</th>\n",
       "      <td>5.0</td>\n",
       "      <td>0.2</td>\n",
       "      <td>0</td>\n",
       "    </tr>\n",
       "  </tbody>\n",
       "</table>\n",
       "</div>"
      ],
      "text/plain": [
       "   sepal length (cm)  petal width (cm)  Species\n",
       "0                5.1               0.2        0\n",
       "1                4.9               0.2        0\n",
       "2                4.7               0.2        0\n",
       "3                4.6               0.2        0\n",
       "4                5.0               0.2        0"
      ]
     },
     "execution_count": 6,
     "metadata": {},
     "output_type": "execute_result"
    }
   ],
   "source": [
    "df_new.head()"
   ]
  },
  {
   "cell_type": "markdown",
   "metadata": {
    "id": "_z09_vfkKw7K"
   },
   "source": [
    "**3) Encoding**\n",
    "\n",
    "Now we will use Label Encoder to Encode the 'Species' column in numeric. For eg - the species Iris-setosa is encoded as 0, Iris-virginica as 2 and so on."
   ]
  },
  {
   "cell_type": "code",
   "execution_count": 7,
   "metadata": {
    "id": "WSa4ils9AuE_"
   },
   "outputs": [
    {
     "data": {
      "text/html": [
       "<div>\n",
       "<style scoped>\n",
       "    .dataframe tbody tr th:only-of-type {\n",
       "        vertical-align: middle;\n",
       "    }\n",
       "\n",
       "    .dataframe tbody tr th {\n",
       "        vertical-align: top;\n",
       "    }\n",
       "\n",
       "    .dataframe thead th {\n",
       "        text-align: right;\n",
       "    }\n",
       "</style>\n",
       "<table border=\"1\" class=\"dataframe\">\n",
       "  <thead>\n",
       "    <tr style=\"text-align: right;\">\n",
       "      <th></th>\n",
       "      <th>sepal length (cm)</th>\n",
       "      <th>petal width (cm)</th>\n",
       "      <th>Species</th>\n",
       "      <th>Species_encoded</th>\n",
       "    </tr>\n",
       "  </thead>\n",
       "  <tbody>\n",
       "    <tr>\n",
       "      <th>0</th>\n",
       "      <td>5.1</td>\n",
       "      <td>0.2</td>\n",
       "      <td>0</td>\n",
       "      <td>0</td>\n",
       "    </tr>\n",
       "    <tr>\n",
       "      <th>1</th>\n",
       "      <td>4.9</td>\n",
       "      <td>0.2</td>\n",
       "      <td>0</td>\n",
       "      <td>0</td>\n",
       "    </tr>\n",
       "    <tr>\n",
       "      <th>2</th>\n",
       "      <td>4.7</td>\n",
       "      <td>0.2</td>\n",
       "      <td>0</td>\n",
       "      <td>0</td>\n",
       "    </tr>\n",
       "    <tr>\n",
       "      <th>3</th>\n",
       "      <td>4.6</td>\n",
       "      <td>0.2</td>\n",
       "      <td>0</td>\n",
       "      <td>0</td>\n",
       "    </tr>\n",
       "    <tr>\n",
       "      <th>4</th>\n",
       "      <td>5.0</td>\n",
       "      <td>0.2</td>\n",
       "      <td>0</td>\n",
       "      <td>0</td>\n",
       "    </tr>\n",
       "    <tr>\n",
       "      <th>...</th>\n",
       "      <td>...</td>\n",
       "      <td>...</td>\n",
       "      <td>...</td>\n",
       "      <td>...</td>\n",
       "    </tr>\n",
       "    <tr>\n",
       "      <th>145</th>\n",
       "      <td>6.7</td>\n",
       "      <td>2.3</td>\n",
       "      <td>2</td>\n",
       "      <td>2</td>\n",
       "    </tr>\n",
       "    <tr>\n",
       "      <th>146</th>\n",
       "      <td>6.3</td>\n",
       "      <td>1.9</td>\n",
       "      <td>2</td>\n",
       "      <td>2</td>\n",
       "    </tr>\n",
       "    <tr>\n",
       "      <th>147</th>\n",
       "      <td>6.5</td>\n",
       "      <td>2.0</td>\n",
       "      <td>2</td>\n",
       "      <td>2</td>\n",
       "    </tr>\n",
       "    <tr>\n",
       "      <th>148</th>\n",
       "      <td>6.2</td>\n",
       "      <td>2.3</td>\n",
       "      <td>2</td>\n",
       "      <td>2</td>\n",
       "    </tr>\n",
       "    <tr>\n",
       "      <th>149</th>\n",
       "      <td>5.9</td>\n",
       "      <td>1.8</td>\n",
       "      <td>2</td>\n",
       "      <td>2</td>\n",
       "    </tr>\n",
       "  </tbody>\n",
       "</table>\n",
       "<p>150 rows × 4 columns</p>\n",
       "</div>"
      ],
      "text/plain": [
       "     sepal length (cm)  petal width (cm)  Species  Species_encoded\n",
       "0                  5.1               0.2        0                0\n",
       "1                  4.9               0.2        0                0\n",
       "2                  4.7               0.2        0                0\n",
       "3                  4.6               0.2        0                0\n",
       "4                  5.0               0.2        0                0\n",
       "..                 ...               ...      ...              ...\n",
       "145                6.7               2.3        2                2\n",
       "146                6.3               1.9        2                2\n",
       "147                6.5               2.0        2                2\n",
       "148                6.2               2.3        2                2\n",
       "149                5.9               1.8        2                2\n",
       "\n",
       "[150 rows x 4 columns]"
      ]
     },
     "execution_count": 7,
     "metadata": {},
     "output_type": "execute_result"
    }
   ],
   "source": [
    "# Do not make changes in this cell\n",
    "# Simply execute it and move on\n",
    "from sklearn.preprocessing import LabelEncoder\n",
    "labelencoder_Species = LabelEncoder()\n",
    "df_new['Species_encoded'] = labelencoder_Species.fit_transform(df_new['Species'])\n",
    "df_new"
   ]
  },
  {
   "cell_type": "markdown",
   "metadata": {
    "id": "4VEK-uUqcp_d"
   },
   "source": [
    "We break this into X (features - 'SepalLengthCm' and 'PetalWidthCm') and y (output which is 'Species_encoded')."
   ]
  },
  {
   "cell_type": "code",
   "execution_count": 8,
   "metadata": {
    "id": "VAAz8OaHRclS"
   },
   "outputs": [],
   "source": [
    "# a)Write the code to choose columns 'SepalLengthCm' and 'PetalWidthCm' from the dataframe 'df_new',\n",
    "# and assign it to the new dataframe X.\n",
    "# b)Write the code to choose columns 'Species_encoded' from the dataframe 'df_new',\n",
    "# and assign it to the new dataframe y."
   ]
  },
  {
   "cell_type": "code",
   "execution_count": 9,
   "metadata": {
    "id": "T5bmRGCpczjQ"
   },
   "outputs": [],
   "source": [
    "#Write the code below\n",
    "X = df_new.loc[:,['sepal length (cm)','petal width (cm)']]\n",
    "y = df_new.loc[:,'Species_encoded']\n"
   ]
  },
  {
   "cell_type": "markdown",
   "metadata": {
    "id": "UD6bhJszb3iT"
   },
   "source": [
    "**4) Training and Test data**\n",
    "\n",
    "We will divide the dataset into training and test dataset to see the accuracy of each of the algorithms that we use :"
   ]
  },
  {
   "cell_type": "code",
   "execution_count": 10,
   "metadata": {
    "id": "DeSGoSC9cGRT"
   },
   "outputs": [],
   "source": [
    "from sklearn.model_selection import train_test_split"
   ]
  },
  {
   "cell_type": "code",
   "execution_count": 11,
   "metadata": {
    "id": "LMjKEmUeR52D"
   },
   "outputs": [],
   "source": [
    "# Split the dataset into 60% training and 40% test set\n",
    "# NOTE:- take random_state = 3\n",
    "# Take the variables as X_train, X_test, y_train and y_test"
   ]
  },
  {
   "cell_type": "code",
   "execution_count": 12,
   "metadata": {
    "id": "mwVZl5JaR-AW"
   },
   "outputs": [],
   "source": [
    "#Write the code below\n",
    "X_train,X_test,y_train,y_test = train_test_split(X,y,train_size=0.6,test_size=0.4,random_state=3)\n",
    "X_train.reset_index(inplace = True, drop = True)\n",
    "X_test.reset_index(inplace = True, drop = True)\n",
    "y_train.reset_index(inplace = True, drop = True)\n",
    "y_test.reset_index(inplace = True, drop = True)"
   ]
  },
  {
   "cell_type": "markdown",
   "metadata": {
    "id": "VyTaNLqLVFyG"
   },
   "source": [
    "We can check the different types of species in the dataset using the unique function :"
   ]
  },
  {
   "cell_type": "code",
   "execution_count": 13,
   "metadata": {
    "id": "hasTtJ29ThOc"
   },
   "outputs": [
    {
     "data": {
      "text/plain": [
       "array([0, 1, 2])"
      ]
     },
     "execution_count": 13,
     "metadata": {},
     "output_type": "execute_result"
    }
   ],
   "source": [
    "df_new['Species'].unique()"
   ]
  },
  {
   "cell_type": "markdown",
   "metadata": {
    "id": "PDfX6CHYLvnx"
   },
   "source": [
    "**5) Visualization of data**\n",
    "\n",
    "Now we will plot the two features on the x and y axis and plot the data with different colour according to the species. "
   ]
  },
  {
   "cell_type": "code",
   "execution_count": 14,
   "metadata": {
    "id": "I6NKSRxAb91F"
   },
   "outputs": [],
   "source": [
    "# Write the code to create datasets according to the different categories of the species from the training set of features\n",
    "# and assign it to the new dataframes setosa, versicolor and virginica."
   ]
  },
  {
   "cell_type": "code",
   "execution_count": 15,
   "metadata": {
    "id": "r-by0adGLl04"
   },
   "outputs": [],
   "source": [
    "#Create datasets according to the category\n",
    "#For the species setosa           \n",
    "setosa = X.loc[df_new.Species_encoded==0]\n",
    "#For the species versicolor          \n",
    "versicolor = X.loc[df_new.Species_encoded==1]\n",
    "#For the species virginica   \n",
    "virginica = X.loc[df_new.Species_encoded==2]"
   ]
  },
  {
   "cell_type": "code",
   "execution_count": 16,
   "metadata": {
    "id": "NA6hvqRpuqFL"
   },
   "outputs": [
    {
     "data": {
      "image/png": "[encoded data removed]",
      "text/plain": [
       "<Figure size 432x288 with 1 Axes>"
      ]
     },
     "metadata": {
      "needs_background": "light"
     },
     "output_type": "display_data"
    }
   ],
   "source": [
    "#Plot the data categorywise using scatter plot and visualize the data. Also include labels and legend.\n",
    "#Write the code below\n",
    "fig,ax = plt.subplots()\n",
    "ax.scatter(setosa.iloc[:,0],setosa.iloc[:,1],c='r',label='setosa')\n",
    "ax.scatter(versicolor.iloc[:,0],versicolor.iloc[:,1],c='b',label='versicolor')\n",
    "ax.scatter(virginica.iloc[:,0],virginica.iloc[:,1],c='y',label='virginica')\n",
    "ax.set_xlabel('sepal length (cm)')\n",
    "ax.set_ylabel('petal width (cm)')\n",
    "ax.legend()\n",
    "ax.set_title('petal width (cm) vs sepal length (cm)')\n",
    "plt.show()"
   ]
  },
  {
   "cell_type": "markdown",
   "metadata": {
    "id": "jivimtxl04D5"
   },
   "source": [
    "Let us import the time library to compare the timing of the 3 methods :"
   ]
  },
  {
   "cell_type": "code",
   "execution_count": 17,
   "metadata": {
    "id": "2qSpXy1f09dl"
   },
   "outputs": [],
   "source": [
    "import time"
   ]
  },
  {
   "cell_type": "markdown",
   "metadata": {
    "id": "cITcO7SbZWcw"
   },
   "source": [
    "**6) Nearest Neighbour Classifier**\n",
    "\n"
   ]
  },
  {
   "cell_type": "code",
   "execution_count": 18,
   "metadata": {
    "id": "stPr8k--gcke"
   },
   "outputs": [],
   "source": [
    "# Question 1) Write the algorithm for nearest neighbour classifier as learnt in the theory\n",
    "#             Assign the answer to ans[0] after converting the output of the method to tuple "
   ]
  },
  {
   "cell_type": "code",
   "execution_count": 19,
   "metadata": {
    "id": "Hztil8AURSgo"
   },
   "outputs": [],
   "source": [
    "# Algorithm - Calculate the Euclidian distance for each test dataset by comparing with every trainig dataset and assign it to the variable 'val'\n",
    "#            The prediciton is the minimum value obtained from all the Euclidian distance calculated for that test datapoint\n",
    "# Assign the y_predict to ans[0] as a tuple => (0,1,0,2, and so on) "
   ]
  },
  {
   "cell_type": "code",
   "execution_count": 20,
   "metadata": {
    "id": "KGVnniI3uJpH"
   },
   "outputs": [],
   "source": [
    "ans = [None] * 10\n",
    "start_time = time.time()                          # Starting the runtime for this cell\n",
    "y_predict = []                                    # Predicted values of y will be stored\n",
    "#Write the code below\n",
    "num_test = X_test.shape[0]\n",
    "num_train = X_train.shape[0]\n",
    "nX_train = np.array(X_train)\n",
    "nX_test = np.array(X_test)\n",
    "ny_train = np.array(y_train)\n",
    "distance_matrix = np.zeros((num_test,num_train))\n",
    "\n",
    "for i in range(nX_test.shape[0]):\n",
    "    for j in range(nX_train.shape[0]):\n",
    "        distance_matrix[i][j] = np.sqrt(np.sum((nX_test[i]-nX_train[j])**2))\n",
    "\n",
    "y_predict = np.zeros(num_test)\n",
    "y_dist = np.zeros(num_test)\n",
    "# y_predict = ny_train[np.argmin(distance_matrix, axis=1)]\n",
    "for i in range(num_test):\n",
    "    min_val = distance_matrix[i][0]\n",
    "    index=0\n",
    "    for j in range(num_train):\n",
    "        if min_val >= distance_matrix[i][j]:\n",
    "            min_val = distance_matrix[i][j]\n",
    "            index = j\n",
    "    y_predict[i] = ny_train[index]\n",
    "    y_dist[i] = min_val\n",
    "\n",
    "# 1 mark\n",
    "ans[0] = tuple(np.int64(y_predict))\n",
    "ans[0] = str(ans[0])\n",
    "time_NN = time.time() - start_time                # Final time taken"
   ]
  },
  {
   "cell_type": "markdown",
   "metadata": {
    "id": "czv-iPfLOaoj"
   },
   "source": [
    "We will concatenate the columns of predicted and y_test dataframe to X_test"
   ]
  },
  {
   "cell_type": "code",
   "execution_count": 21,
   "metadata": {
    "id": "-gypIBLfiy59"
   },
   "outputs": [],
   "source": [
    "# a)Concatenate X_test and y_test dataframe by column and assign it to the new dataframe 'Test_Data'\n",
    "# b)Concatenate Test_data and Predicted dataframe by column assign it to the new dataframe 'Check_Prediction' "
   ]
  },
  {
   "cell_type": "code",
   "execution_count": 22,
   "metadata": {
    "id": "WP_BNoymLC5I"
   },
   "outputs": [],
   "source": [
    "#Write the code below\n",
    "Test_Data = pd.concat([X_test,y_test],axis=1)\n",
    "pdy_pred = pd.DataFrame(y_predict,index=Test_Data.index)\n",
    "pdy_pred.columns = [\"Predicted\"]\n",
    "Check_prediction = pd.concat([Test_Data,pdy_pred], axis=1)"
   ]
  },
  {
   "cell_type": "markdown",
   "metadata": {
    "id": "ktMbUpPE4t2E"
   },
   "source": [
    "We will calculate the accuracy now :"
   ]
  },
  {
   "cell_type": "code",
   "execution_count": 23,
   "metadata": {
    "id": "7ByP9eMzpT7u"
   },
   "outputs": [],
   "source": [
    "# Question 2) Calculate the accuracy obtained for the algorithm used above\n",
    "#             Assign the accuracy to ans[1] and store it as 'Accuracy_NearestNeighbours'  "
   ]
  },
  {
   "cell_type": "code",
   "execution_count": 24,
   "metadata": {
    "id": "gr6T3x-TfEvg"
   },
   "outputs": [],
   "source": [
    "#NOTE - Accuracy = Correct_Predictions/Total_Predictions\n",
    "#Write the code below\n",
    "Accuracy_NearestNeighbours = Check_prediction.loc[Check_prediction.Species_encoded == Check_prediction.Predicted].shape[0]/Check_prediction.shape[0]\n",
    "\n",
    "# 1 mark\n",
    "ans[1] = Accuracy_NearestNeighbours"
   ]
  },
  {
   "cell_type": "markdown",
   "metadata": {
    "id": "N4t20uChOkLU"
   },
   "source": [
    "Now let us have a look at the values that we did not predicted correctly :"
   ]
  },
  {
   "cell_type": "code",
   "execution_count": 25,
   "metadata": {
    "id": "vWNgSD6EBq1-"
   },
   "outputs": [
    {
     "data": {
      "image/png": "[encoded data removed]",
      "text/plain": [
       "<Figure size 432x288 with 1 Axes>"
      ]
     },
     "metadata": {
      "needs_background": "light"
     },
     "output_type": "display_data"
    },
    {
     "data": {
      "image/png": "[encoded data removed]",
      "text/plain": [
       "<Figure size 432x288 with 1 Axes>"
      ]
     },
     "metadata": {
      "needs_background": "light"
     },
     "output_type": "display_data"
    },
    {
     "data": {
      "image/png": "[encoded data removed]",
      "text/plain": [
       "<Figure size 432x288 with 1 Axes>"
      ]
     },
     "metadata": {
      "needs_background": "light"
     },
     "output_type": "display_data"
    }
   ],
   "source": [
    "#Plot the data categorywise using scatter plot and visualize the data. Also include labels and legend.\n",
    "#Write the code below\n",
    "setosa_real = Check_prediction.loc[Check_prediction.Species_encoded==0]\n",
    "#For the species versicolor          \n",
    "versicolor_real = Check_prediction.loc[Check_prediction.Species_encoded==1]\n",
    "#For the species virginica   \n",
    "virginica_real = Check_prediction.loc[Check_prediction.Species_encoded==2]\n",
    "\n",
    "fig_real,ax_real = plt.subplots()\n",
    "ax_real.scatter(setosa_real.iloc[:,0],setosa_real.iloc[:,1],c='r',label='setosa')\n",
    "ax_real.scatter(versicolor_real.iloc[:,0],versicolor_real.iloc[:,1],c='b',label='versicolor')\n",
    "ax_real.scatter(virginica_real.iloc[:,0],virginica_real.iloc[:,1],c='y',label='virginica')\n",
    "ax_real.set_xlabel('sepal length (cm)')\n",
    "ax_real.set_ylabel('petal width (cm)')\n",
    "ax_real.legend()\n",
    "ax_real.set_title('petal width (cm)vs sepal length (cm)(Correct Label Plot)')\n",
    "plt.show()\n",
    "\n",
    "setosa_predicted = Check_prediction.loc[Check_prediction.Predicted==0]\n",
    "#For the species versicolor          \n",
    "versicolor_predicted = Check_prediction.loc[Check_prediction.Predicted==1]\n",
    "#For the species virginica   \n",
    "virginica_predicted = Check_prediction.loc[Check_prediction.Predicted==2]\n",
    "\n",
    "fig_predicted,ax_predicted = plt.subplots()\n",
    "ax_predicted.scatter(setosa_predicted.iloc[:,0],setosa_predicted.iloc[:,1],c='r',label='setosa')\n",
    "ax_predicted.scatter(versicolor_predicted.iloc[:,0],versicolor_predicted.iloc[:,1],c='b',label='versicolor')\n",
    "ax_predicted.scatter(virginica_predicted.iloc[:,0],virginica_predicted.iloc[:,1],c='y',label='virginica')\n",
    "ax_predicted.set_xlabel('sepal length (cm)')\n",
    "ax_predicted.set_ylabel('petal width (cm)')\n",
    "ax_predicted.legend()\n",
    "ax_predicted.set_title('petal width (cm)vs sepal length (cm)(Predicted Label Plot)')\n",
    "plt.show()\n",
    "\n",
    "\n",
    "#Implement the below code snippet to see the values that were not predicted correctly\n",
    "for index in Check_prediction.index:\n",
    "    if(Check_prediction['Species_encoded'][index]==Check_prediction['Predicted'][index]):\n",
    "        plt.scatter(Check_prediction['sepal length (cm)'][index],Check_prediction['petal width (cm)'][index],marker='x',c='m')\n",
    "    else:\n",
    "        plt.scatter(Check_prediction['sepal length (cm)'][index],Check_prediction['petal width (cm)'][index],marker='*',c='y')"
   ]
  },
  {
   "cell_type": "markdown",
   "metadata": {
    "id": "2YQu3nh8ZK5B"
   },
   "source": [
    "The magenta cross represents correct predictions and the yellow stars represent incorrect predictions.\n",
    "\n",
    "We see that even if there is an outlier, if the test value is close to that value, it will be predicted in that class, which may not always be right. Hence we move on to the k Nearest Neighbor."
   ]
  },
  {
   "cell_type": "markdown",
   "metadata": {
    "id": "d42m7X1Rnl8-"
   },
   "source": [
    "**7)  K Nearest Neighbour**\n",
    "\n",
    "Choosing the value of k for the algorithm could be a difficult task. A small value of k means that noise will have a higher influence on the result and a large value make it computationally expensive.\n",
    "\n",
    "We will have to check which value suits well. Let us start with k = 5.\n",
    "\n",
    "Now we will move on to K Nearest Neighbour classifier:"
   ]
  },
  {
   "cell_type": "code",
   "execution_count": 26,
   "metadata": {
    "id": "k-7A0pPS0-Cd"
   },
   "outputs": [],
   "source": [
    "# Question 3) Algorithm - Calculate the Euclidian distance for each test dataset by comparing with every training dataset and assign it to the variable 'val'\n",
    "#            Sort the distances obtained and take the k smallest values.\n",
    "#            Take their species values.\n",
    "#            The prediciton is the maximum frequency among all the k sorted values.  \n",
    "#           # Assign the y_predict to ans[2] as a tuple => (0,1,0,2, and so on)  "
   ]
  },
  {
   "cell_type": "code",
   "execution_count": 27,
   "metadata": {
    "id": "ffRlp-XvlwdV"
   },
   "outputs": [],
   "source": [
    "start_time = time.time()\n",
    "k = 5\n",
    "y_predict = []\n",
    "#Write the code below\n",
    "     \n",
    "\n",
    "num_test = X_test.shape[0]\n",
    "num_train = X_train.shape[0]\n",
    "nX_train = np.array(X_train)\n",
    "nX_test = np.array(X_test)\n",
    "ny_train = np.array(y_train)\n",
    "val = np.zeros((num_test,num_train))\n",
    "for i in range(nX_test.shape[0]):\n",
    "    for j in range(nX_train.shape[0]):\n",
    "        val[i][j] = np.sqrt(np.sum((nX_test[i]-nX_train[j])**2))\n",
    "\n",
    "y_predict = np.zeros(num_test)\n",
    "y_freq = np.zeros(num_test)\n",
    "for i in range(num_test):\n",
    "    closest_y = []\n",
    "    closest_y = ny_train[np.argsort(val[i],kind='mergesort')[:k]]\n",
    "    freq = {}\n",
    "    for elem in closest_y:\n",
    "        if elem in freq:\n",
    "            freq[elem]+=1\n",
    "        else:\n",
    "            freq[elem] = 1\n",
    "\n",
    "    count=-1\n",
    "    label=-1\n",
    "    for key,value in freq.items():\n",
    "        if count<=value:\n",
    "            label=key\n",
    "            count=value\n",
    "\n",
    "    y_freq[i] = count\n",
    "    y_predict[i] = label\n",
    "    \n",
    "\n",
    "# 1 mark\n",
    "ans[2] = tuple(np.int64(y_predict))\n",
    "ans[2] = str(ans[2])\n",
    "time_k5_NN = time.time() - start_time"
   ]
  },
  {
   "cell_type": "code",
   "execution_count": 28,
   "metadata": {
    "id": "pvD8-_XgXUjc"
   },
   "outputs": [],
   "source": [
    "# a):Concatenate X_test and y_test dataframe by column and assign it to the new dataframe 'Test_Data'\n",
    "# b):Concatenate Test_data and Predicted dataframe by column assign it to the new dataframe 'Check_Prediction' "
   ]
  },
  {
   "cell_type": "code",
   "execution_count": 29,
   "metadata": {
    "id": "ox8v__QacRE9"
   },
   "outputs": [],
   "source": [
    "# Write the code below\n",
    "Test_Data = pd.concat([X_test,y_test],axis=1)\n",
    "pdy_pred = pd.DataFrame(y_predict,index=Test_Data.index,dtype='int64')\n",
    "pdy_pred.columns = [\"Predicted\"]\n",
    "Check_prediction = pd.concat([Test_Data,pdy_pred], axis=1)"
   ]
  },
  {
   "cell_type": "markdown",
   "metadata": {
    "id": "2RBcFcwKXUjg"
   },
   "source": [
    "We will calculate the accuracy now :"
   ]
  },
  {
   "cell_type": "code",
   "execution_count": 30,
   "metadata": {
    "id": "jWs8A7Ql1NcM"
   },
   "outputs": [],
   "source": [
    "# Question 4) :Calculate the accuracy obtained for the algorithm used above\n",
    "#             Assign the accuracy to ans[3] and store it as 'Accuracy_k5_NearestNeighbours' "
   ]
  },
  {
   "cell_type": "code",
   "execution_count": 31,
   "metadata": {
    "id": "r7fklHz_1NcM"
   },
   "outputs": [],
   "source": [
    "#NOTE - Accuracy = Correct_Predictions/Total_Predictions\n",
    "#Write the code below\n",
    "Accuracy_k5_NearestNeighbours = Check_prediction.loc[Check_prediction.Species_encoded == Check_prediction.Predicted].shape[0]/Check_prediction.shape[0]\n",
    "\n",
    "# 1 mark\n",
    "ans[3] = Accuracy_k5_NearestNeighbours"
   ]
  },
  {
   "cell_type": "markdown",
   "metadata": {
    "id": "wBaLTpXuXUjj"
   },
   "source": [
    "Now let us have a look at the values that we did not predicted correctly :"
   ]
  },
  {
   "cell_type": "code",
   "execution_count": 32,
   "metadata": {
    "id": "IRZR78zY1dQU"
   },
   "outputs": [
    {
     "data": {
      "image/png": "[encoded data removed]",
      "text/plain": [
       "<Figure size 432x288 with 1 Axes>"
      ]
     },
     "metadata": {
      "needs_background": "light"
     },
     "output_type": "display_data"
    },
    {
     "data": {
      "image/png": "[encoded data removed]",
      "text/plain": [
       "<Figure size 432x288 with 1 Axes>"
      ]
     },
     "metadata": {
      "needs_background": "light"
     },
     "output_type": "display_data"
    },
    {
     "data": {
      "image/png": "[encoded data removed]",
      "text/plain": [
       "<Figure size 432x288 with 1 Axes>"
      ]
     },
     "metadata": {
      "needs_background": "light"
     },
     "output_type": "display_data"
    }
   ],
   "source": [
    "#Plot the data categorywise using scatter plot and visualize the data. Also include labels and legend.\n",
    "# Write the code below\n",
    "setosa_real = Check_prediction.loc[Check_prediction.Species_encoded==0]\n",
    "#For the species versicolor          \n",
    "versicolor_real = Check_prediction.loc[Check_prediction.Species_encoded==1]\n",
    "#For the species virginica   \n",
    "virginica_real = Check_prediction.loc[Check_prediction.Species_encoded==2]\n",
    "\n",
    "fig_real,ax_real = plt.subplots()\n",
    "ax_real.scatter(setosa_real.iloc[:,0],setosa_real.iloc[:,1],c='r',label='setosa')\n",
    "ax_real.scatter(versicolor_real.iloc[:,0],versicolor_real.iloc[:,1],c='b',label='versicolor')\n",
    "ax_real.scatter(virginica_real.iloc[:,0],virginica_real.iloc[:,1],c='y',label='virginica')\n",
    "ax_real.set_xlabel('sepal length (cm)')\n",
    "ax_real.set_ylabel('petal width (cm)')\n",
    "ax_real.legend()\n",
    "ax_real.set_title('petal width (cm)vs sepal length (cm)(Correct Label Plot)')\n",
    "plt.show()\n",
    "\n",
    "setosa_predicted = Check_prediction.loc[Check_prediction.Predicted==0]\n",
    "#For the species versicolor          \n",
    "versicolor_predicted = Check_prediction.loc[Check_prediction.Predicted==1]\n",
    "#For the species virginica   \n",
    "virginica_predicted = Check_prediction.loc[Check_prediction.Predicted==2]\n",
    "\n",
    "fig_predicted,ax_predicted = plt.subplots()\n",
    "ax_predicted.scatter(setosa_predicted.iloc[:,0],setosa_predicted.iloc[:,1],c='r',label='setosa')\n",
    "ax_predicted.scatter(versicolor_predicted.iloc[:,0],versicolor_predicted.iloc[:,1],c='b',label='versicolor')\n",
    "ax_predicted.scatter(virginica_predicted.iloc[:,0],virginica_predicted.iloc[:,1],c='y',label='virginica')\n",
    "ax_predicted.set_xlabel('sepal length (cm)')\n",
    "ax_predicted.set_ylabel('petal width (cm)')\n",
    "ax_predicted.legend()\n",
    "ax_predicted.set_title('petal width (cm)vs sepal length (cm)(Predicted Label Plot)')\n",
    "plt.show()\n",
    "\n",
    "\n",
    "#Implement the below code snippet to see the values that were not predicted correctly\n",
    "for index in Check_prediction.index:\n",
    "    if(Check_prediction['Species_encoded'][index]==Check_prediction['Predicted'][index]):\n",
    "        plt.scatter(Check_prediction['sepal length (cm)'][index],Check_prediction['petal width (cm)'][index],marker='x',c='m')\n",
    "    else:\n",
    "        plt.scatter(Check_prediction['sepal length (cm)'][index],Check_prediction['petal width (cm)'][index],marker='*',c='y')"
   ]
  },
  {
   "cell_type": "markdown",
   "metadata": {
    "id": "zc3PoFufzQwD"
   },
   "source": [
    "From this plot, it is visible that some of the outlier cases wrongly predicted in previous method are being taken care of by kNN. Still there could always be some errors near boundary lines."
   ]
  },
  {
   "cell_type": "markdown",
   "metadata": {
    "id": "lDfbhdnZZ502"
   },
   "source": [
    "Choosing an optimum value of k is very important. Let us see the problems when k is too large or too less.\n",
    "\n",
    "First when k is too small :\n",
    "\n",
    "Let us check for k = 1."
   ]
  },
  {
   "cell_type": "markdown",
   "metadata": {
    "id": "hW5OhE3KMvc7"
   },
   "source": [
    "We are adding some outliers in the data to see what the KNN for k=1 predicts."
   ]
  },
  {
   "cell_type": "code",
   "execution_count": 33,
   "metadata": {
    "id": "VwoYvjYvMxTv"
   },
   "outputs": [
    {
     "name": "stderr",
     "output_type": "stream",
     "text": [
      "c:\\users\\user\\appdata\\local\\programs\\python\\python39\\lib\\site-packages\\pandas\\core\\indexing.py:692: SettingWithCopyWarning: \n",
      "A value is trying to be set on a copy of a slice from a DataFrame\n",
      "\n",
      "See the caveats in the documentation: https://pandas.pydata.org/pandas-docs/stable/user_guide/indexing.html#returning-a-view-versus-a-copy\n",
      "  iloc._setitem_with_indexer(indexer, value, self.name)\n"
     ]
    }
   ],
   "source": [
    "#adding outliers in the data\n",
    "X_test.loc[len(X_test.index)] = [4.5, 1.5]  \n",
    "X_test.loc[len(X_test.index)] = [4.8, 1.5]  \n",
    "X_test.loc[len(X_test.index)] = [7, 1.5]  \n",
    "X_test.loc[len(X_test.index)] = [5, 0.85]  \n",
    "y_test.loc[len(y_test.index)] = 1 \n",
    "y_test.loc[len(y_test.index)] = 1\n",
    "y_test.loc[len(y_test.index)] = 2\n",
    "y_test.loc[len(y_test.index)] = 0 "
   ]
  },
  {
   "cell_type": "code",
   "execution_count": 33,
   "metadata": {
    "id": "5zjeeRagcVzd"
   },
   "outputs": [],
   "source": [
    "# Now implement KNN algorithm with k = 1"
   ]
  },
  {
   "cell_type": "code",
   "execution_count": 34,
   "metadata": {
    "id": "8Wq7Ib-ZcVl9"
   },
   "outputs": [],
   "source": [
    "start_time = time.time()\n",
    "k = 1\n",
    "y_predict = []\n",
    "#Write the code below\n",
    "\n",
    "num_test = X_test.shape[0]\n",
    "num_train = X_train.shape[0]\n",
    "nX_train = np.array(X_train)\n",
    "nX_test = np.array(X_test)\n",
    "ny_train = np.array(y_train)\n",
    "val = np.zeros((num_test,num_train))\n",
    "for i in range(nX_test.shape[0]):\n",
    "    for j in range(nX_train.shape[0]):\n",
    "        val[i][j] = np.sqrt(np.sum((nX_test[i]-nX_train[j])**2))\n",
    "\n",
    "y_predict = np.zeros(num_test)\n",
    "y_freq = np.zeros(num_test)\n",
    "for i in range(num_test):\n",
    "    closest_y = []\n",
    "    closest_y = ny_train[np.argsort(val[i],kind='mergesort')[:k]]\n",
    "    freq = {}\n",
    "    for elem in closest_y:\n",
    "        if elem in freq:\n",
    "            freq[elem]+=1\n",
    "        else:\n",
    "            freq[elem] = 1\n",
    "\n",
    "    count=-1\n",
    "    label=-1\n",
    "    for key,value in freq.items():\n",
    "        if count<=value:\n",
    "            label=key\n",
    "            count=value\n",
    "\n",
    "    y_freq[i] = count\n",
    "    y_predict[i] = label\n",
    "\n",
    "time_k1_NN = time.time() - start_time"
   ]
  },
  {
   "cell_type": "code",
   "execution_count": 35,
   "metadata": {
    "id": "_BDRidu-cVWF"
   },
   "outputs": [],
   "source": [
    "# a):Concatenate X_test and y_test dataframe by column and assign it to the new dataframe 'Test_Data'\n",
    "# b):Concatenate Test_data and Predicted dataframe by column assign it to the new dataframe 'Check_Prediction' "
   ]
  },
  {
   "cell_type": "code",
   "execution_count": 36,
   "metadata": {
    "id": "sXXswMHLcfK2"
   },
   "outputs": [],
   "source": [
    "# Write the code below\n",
    "Test_Data = pd.concat([X_test,y_test],axis=1)\n",
    "pdy_pred = pd.DataFrame(y_predict,index=Test_Data.index,dtype='int64')\n",
    "pdy_pred.columns = [\"Predicted\"]\n",
    "Check_prediction = pd.concat([Test_Data,pdy_pred], axis=1)"
   ]
  },
  {
   "cell_type": "markdown",
   "metadata": {
    "id": "tK_MsXnvckcs"
   },
   "source": [
    "We will calculate the accuracy now :"
   ]
  },
  {
   "cell_type": "code",
   "execution_count": 37,
   "metadata": {
    "id": "B-dsgrFscl_u"
   },
   "outputs": [],
   "source": [
    "# Question 5) :Calculate the accuracy obtained for the algorithm used above\n",
    "#             Assign the accuracy to ans[4] and store it as 'Accuracy_k2_NearestNeighbours'"
   ]
  },
  {
   "cell_type": "code",
   "execution_count": 38,
   "metadata": {
    "id": "_K6iUEzUcoIu"
   },
   "outputs": [],
   "source": [
    "#NOTE - Accuracy = Correct_Predictions/Total_Predictions\n",
    "#Write the code below\n",
    "Accuracy_k1_NearestNeighbours = Check_prediction.loc[Check_prediction.Species_encoded == Check_prediction.Predicted].shape[0]/Check_prediction.shape[0]\n",
    "\n",
    "# 1 mark\n",
    "ans[4] = Accuracy_k1_NearestNeighbours"
   ]
  },
  {
   "cell_type": "markdown",
   "metadata": {
    "id": "s7qE06gMMooU"
   },
   "source": [
    "As we can clearly see that KNN for k=1 doesn't do well in case of outliers. Hence, we increase the value of k to get better results."
   ]
  },
  {
   "cell_type": "markdown",
   "metadata": {
    "id": "kXWMlk5gcsy2"
   },
   "source": [
    "Let us check for k = 2."
   ]
  },
  {
   "cell_type": "code",
   "execution_count": 39,
   "metadata": {
    "id": "fpgM3Lca1ui1"
   },
   "outputs": [],
   "source": [
    "# Now implement KNN algorithm with k = 2"
   ]
  },
  {
   "cell_type": "code",
   "execution_count": 40,
   "metadata": {
    "id": "CA-Il-VBaF5z"
   },
   "outputs": [],
   "source": [
    "start_time = time.time()\n",
    "k = 2\n",
    "y_predict = []\n",
    "#Write the code below\n",
    "\n",
    "num_test = X_test.shape[0]\n",
    "num_train = X_train.shape[0]\n",
    "nX_train = np.array(X_train)\n",
    "nX_test = np.array(X_test)\n",
    "ny_train = np.array(y_train)\n",
    "val = np.zeros((num_test,num_train))\n",
    "for i in range(nX_test.shape[0]):\n",
    "    for j in range(nX_train.shape[0]):\n",
    "        val[i][j] = np.sqrt(np.sum((nX_test[i]-nX_train[j])**2))\n",
    "\n",
    "y_predict = np.zeros(num_test)\n",
    "y_freq = np.zeros(num_test)\n",
    "for i in range(num_test):\n",
    "    closest_y = []\n",
    "    closest_y = ny_train[np.argsort(val[i],kind='mergesort')[:k]]\n",
    "    freq = {}\n",
    "    for elem in closest_y:\n",
    "        if elem in freq:\n",
    "            freq[elem]+=1\n",
    "        else:\n",
    "            freq[elem] = 1\n",
    "\n",
    "    count=-1\n",
    "    label=-1\n",
    "    for key,value in freq.items():\n",
    "        if count<=value:\n",
    "            label=key\n",
    "            count=value\n",
    "\n",
    "    y_freq[i] = count\n",
    "    y_predict[i] = label\n",
    "\n",
    "time_k2_NN = time.time() - start_time"
   ]
  },
  {
   "cell_type": "code",
   "execution_count": 41,
   "metadata": {
    "id": "iGRYyAJDaF52"
   },
   "outputs": [],
   "source": [
    "# a):Concatenate X_test and y_test dataframe by column and assign it to the new dataframe 'Test_Data'\n",
    "# b):Concatenate Test_data and Predicted dataframe by column assign it to the new dataframe 'Check_Prediction' "
   ]
  },
  {
   "cell_type": "code",
   "execution_count": 42,
   "metadata": {
    "id": "gcnnpnjncJ3m"
   },
   "outputs": [],
   "source": [
    "# Write the code below\n",
    "Test_Data = pd.concat([X_test,y_test],axis=1)\n",
    "pdy_pred = pd.DataFrame(y_predict,index=Test_Data.index,dtype='int64')\n",
    "pdy_pred.columns = [\"Predicted\"]\n",
    "Check_prediction = pd.concat([Test_Data,pdy_pred], axis=1)"
   ]
  },
  {
   "cell_type": "markdown",
   "metadata": {
    "id": "PAQmE2lraF55"
   },
   "source": [
    "We will calculate the accuracy now :"
   ]
  },
  {
   "cell_type": "code",
   "execution_count": 43,
   "metadata": {
    "id": "p_G7wBru2HZT"
   },
   "outputs": [],
   "source": [
    "# Question 6) :Calculate the accuracy obtained for the algorithm used above\n",
    "#             Assign the accuracy to ans[5] and store it as 'Accuracy_k2_NearestNeighbours'"
   ]
  },
  {
   "cell_type": "code",
   "execution_count": 44,
   "metadata": {
    "id": "BpdEvNnj2HZT"
   },
   "outputs": [],
   "source": [
    "#NOTE - Accuracy = Correct_Predictions/Total_Predictions\n",
    "#Write the code below\n",
    "Accuracy_k2_NearestNeighbours = Check_prediction.loc[Check_prediction.Species_encoded == Check_prediction.Predicted].shape[0]/Check_prediction.shape[0]\n",
    "\n",
    "# 1 mark\n",
    "ans[5] = Accuracy_k2_NearestNeighbours"
   ]
  },
  {
   "cell_type": "markdown",
   "metadata": {
    "id": "2AepSoF4aF58"
   },
   "source": [
    "As we can see, when k is too small, it is better than Nearest Neighbour but __A__ accurate than k = 5.\n",
    "\n"
   ]
  },
  {
   "cell_type": "code",
   "execution_count": 45,
   "metadata": {
    "id": "y1PQAA7m9Ohf"
   },
   "outputs": [],
   "source": [
    "#Question 7) What will come inplace of A \n",
    "#            Assign the answer to ans[6] for A \n",
    "# A = less or more? Write your response as \"less\" or \"more\" to the ans[6].\n",
    "# Answer is case sensitive. Adhere to the choices given."
   ]
  },
  {
   "cell_type": "code",
   "execution_count": 46,
   "metadata": {
    "id": "e3kA0eBi9fy1"
   },
   "outputs": [],
   "source": [
    "# 1 marks\n",
    "ans[6] = \"less\""
   ]
  },
  {
   "cell_type": "markdown",
   "metadata": {
    "id": "SxPf-gq6dQvO"
   },
   "source": [
    "Now let us see when k is large, for example k = 12 :"
   ]
  },
  {
   "cell_type": "code",
   "execution_count": 47,
   "metadata": {
    "id": "KDQV9-_R26rN"
   },
   "outputs": [],
   "source": [
    "# Now implement KNN algorithm with k = 12"
   ]
  },
  {
   "cell_type": "code",
   "execution_count": 48,
   "metadata": {
    "id": "Yg2JI9FwcVOX"
   },
   "outputs": [],
   "source": [
    "start_time = time.time()\n",
    "k = 12\n",
    "y_predict = []\n",
    "#Write the code below\n",
    "\n",
    "num_test = X_test.shape[0]\n",
    "num_train = X_train.shape[0]\n",
    "nX_train = np.array(X_train)\n",
    "nX_test = np.array(X_test)\n",
    "ny_train = np.array(y_train)\n",
    "val = np.zeros((num_test,num_train))\n",
    "for i in range(nX_test.shape[0]):\n",
    "    for j in range(nX_train.shape[0]):\n",
    "        val[i][j] = np.sqrt(np.sum((nX_test[i]-nX_train[j])**2))\n",
    "\n",
    "y_predict = np.zeros(num_test)\n",
    "y_freq = np.zeros(num_test)\n",
    "for i in range(num_test):\n",
    "    closest_y = []\n",
    "    closest_y = ny_train[np.argsort(val[i],kind='mergesort')[:k]]\n",
    "    freq = {}\n",
    "    for elem in closest_y:\n",
    "        if elem in freq:\n",
    "            freq[elem]+=1\n",
    "        else:\n",
    "            freq[elem] = 1\n",
    "\n",
    "    count=-1\n",
    "    label=-1\n",
    "    for key,value in freq.items():\n",
    "        if count<=value:\n",
    "            label=key\n",
    "            count=value\n",
    "\n",
    "    y_freq[i] = count\n",
    "    y_predict[i] = label\n",
    "\n",
    "time_k12_NN = time.time() - start_time"
   ]
  },
  {
   "cell_type": "code",
   "execution_count": 49,
   "metadata": {
    "id": "SG7GuZyMcVOb"
   },
   "outputs": [],
   "source": [
    "# a):Concatenate X_test and y_test dataframe by column and assign it to the new dataframe 'Test_Data'\n",
    "# b):Concatenate Test_data and Predicted dataframe by column assign it to the new dataframe 'Check_Prediction'"
   ]
  },
  {
   "cell_type": "code",
   "execution_count": 50,
   "metadata": {
    "id": "qY751odXdn5W"
   },
   "outputs": [],
   "source": [
    "#Write the code below\n",
    "Test_Data = pd.concat([X_test,y_test],axis=1)\n",
    "pdy_pred = pd.DataFrame(y_predict,index=Test_Data.index,dtype='int64')\n",
    "pdy_pred.columns = [\"Predicted\"]\n",
    "Check_prediction = pd.concat([Test_Data,pdy_pred], axis=1)\n"
   ]
  },
  {
   "cell_type": "markdown",
   "metadata": {
    "id": "6CVyENsMcVOd"
   },
   "source": [
    "We will calculate the accuracy now :"
   ]
  },
  {
   "cell_type": "code",
   "execution_count": 51,
   "metadata": {
    "id": "WesRmsvV3JIc"
   },
   "outputs": [],
   "source": [
    "# Question 8) :Calculate the accuracy obtained for the algorithm used above\n",
    "#              Assign the accuracy to ans[7] and store it as 'Accuracy_k12_NearestNeighbours'"
   ]
  },
  {
   "cell_type": "code",
   "execution_count": 52,
   "metadata": {
    "id": "frhJJzlv3JIc"
   },
   "outputs": [],
   "source": [
    "#NOTE - Accuracy = Correct_Predictions/Total_Predictions\n",
    "#Write the code below\n",
    "Accuracy_k12_NearestNeighbours = Check_prediction.loc[Check_prediction.Species_encoded == Check_prediction.Predicted].shape[0]/Check_prediction.shape[0]\n",
    "\n",
    "# 1 mark\n",
    "ans[7] = Accuracy_k12_NearestNeighbours"
   ]
  },
  {
   "cell_type": "markdown",
   "metadata": {
    "id": "XL9xXPYlc4kY"
   },
   "source": [
    "We see that the accuracy is good but it is lower than when k = 5. This is because when the dataset is small and the value of k is too big, it looks at too many points in the surrounding and sometimes gets the wrong prediction about which class it belongs to."
   ]
  },
  {
   "cell_type": "markdown",
   "metadata": {
    "id": "E00_t_Zlwq88"
   },
   "source": [
    "**8) Nearest Mean Classification**\n",
    "\n",
    "Here we take the mean for each of the classes and compare the test cases with them to reduce computational time."
   ]
  },
  {
   "cell_type": "code",
   "execution_count": 53,
   "metadata": {},
   "outputs": [
    {
     "data": {
      "text/plain": [
       "Index(['sepal length (cm)', 'petal width (cm)'], dtype='object')"
      ]
     },
     "execution_count": 53,
     "metadata": {},
     "output_type": "execute_result"
    }
   ],
   "source": [
    "setosa.columns"
   ]
  },
  {
   "cell_type": "code",
   "execution_count": 54,
   "metadata": {
    "id": "fUjxOuL_vsRe"
   },
   "outputs": [],
   "source": [
    "setosa_PetalWidth = setosa['petal width (cm)'].mean()                         # Calculate the mean for all the features of all the classes\n",
    "setosa_SepalLength = setosa['sepal length (cm)'].mean()\n",
    "\n",
    "virginica_PetalWidth = virginica['petal width (cm)'].mean()\n",
    "virginica_SepalLength = virginica['sepal length (cm)'].mean()\n",
    "\n",
    "versicolor_PetalWidth = versicolor['petal width (cm)'].mean()\n",
    "versicolor_SepalLength = versicolor['sepal length (cm)'].mean()"
   ]
  },
  {
   "cell_type": "code",
   "execution_count": 55,
   "metadata": {
    "id": "NsP2J79C4xo2"
   },
   "outputs": [],
   "source": [
    "# Algorithm - Calculate the Euclidian distance for each test dataset by comparing with mean of every class\n",
    "#            The predicited class is the minimum value obtained from all the Euclidian distance calculated for that test datapoint "
   ]
  },
  {
   "cell_type": "code",
   "execution_count": 56,
   "metadata": {
    "id": "RiKS0mxgxGV3"
   },
   "outputs": [],
   "source": [
    "start_time = time.time()\n",
    "y_predict = []\n",
    "#Write the code below\n",
    "mean_df = [[setosa_PetalWidth,setosa_SepalLength],\n",
    "           [virginica_PetalWidth,virginica_SepalLength],\n",
    "           [versicolor_PetalWidth,versicolor_SepalLength]]\n",
    "mean_df = np.array(mean_df)\n",
    "num_test = X_test.shape[0]\n",
    "num_train = mean_df.shape[0]\n",
    "nX_train = mean_df\n",
    "nX_test = np.array(X_test)\n",
    "ny_train = np.array([0,2,1])\n",
    "distance_matrix = np.zeros((num_test,num_train))\n",
    "for i in range(nX_test.shape[0]):\n",
    "    for j in range(nX_train.shape[0]):\n",
    "        distance_matrix[i][j] = np.sqrt(np.sum((nX_test[i]-nX_train[j])**2))\n",
    "\n",
    "y_predict = np.zeros(num_test)\n",
    "y_dist = np.zeros(num_test)\n",
    "for i in range(num_test):\n",
    "    min_val = distance_matrix[i][0]\n",
    "    index=0\n",
    "    for j in range(num_train):\n",
    "        if min_val >= distance_matrix[i][j]:\n",
    "            min_val = distance_matrix[i][j]\n",
    "            index = j\n",
    "    y_predict[i] = ny_train[index]\n",
    "    y_dist[i] = min_val\n",
    "        \n",
    "time_NM = time.time() - start_time"
   ]
  },
  {
   "cell_type": "code",
   "execution_count": 57,
   "metadata": {
    "id": "kOAwdVn-XdNL"
   },
   "outputs": [],
   "source": [
    "# a):Concatenate X_test and y_test dataframe by column and assign it to the new dataframe 'Test_Data'\n",
    "# b):Concatenate Test_data and Predicted dataframe by column assign it to the new dataframe 'Check_Prediction'"
   ]
  },
  {
   "cell_type": "code",
   "execution_count": 58,
   "metadata": {
    "id": "JKuE_0hFdkwe"
   },
   "outputs": [],
   "source": [
    "#Write the code below\n",
    "Test_Data = pd.concat([X_test,y_test],axis=1)\n",
    "pdy_pred = pd.DataFrame(y_predict,index=Test_Data.index,dtype='int64')\n",
    "pdy_pred.columns = [\"Predicted\"]\n",
    "Check_prediction = pd.concat([Test_Data,pdy_pred], axis=1)\n"
   ]
  },
  {
   "cell_type": "markdown",
   "metadata": {
    "id": "mGLQqIa8XdNO"
   },
   "source": [
    "We will calculate the accuracy now :"
   ]
  },
  {
   "cell_type": "code",
   "execution_count": 59,
   "metadata": {
    "id": "cWjfMLG-53de"
   },
   "outputs": [],
   "source": [
    "# Question 9) :Calculate the accuracy obtained for the algorithm used above\n",
    "#              Assign the accuracy to ans[8] and store it as 'Accuracy_NearestMean'"
   ]
  },
  {
   "cell_type": "code",
   "execution_count": 60,
   "metadata": {
    "id": "O2wX75VG53de"
   },
   "outputs": [],
   "source": [
    "#NOTE - Accuracy = Correct_Predictions/Total_Predictions\n",
    "#Write the code below\n",
    "Accuracy_NearestMean = Check_prediction.loc[Check_prediction.Species_encoded == Check_prediction.Predicted].shape[0]/Check_prediction.shape[0]\n",
    "\n",
    "# 1 mark\n",
    "ans[8] = Accuracy_NearestMean"
   ]
  },
  {
   "cell_type": "markdown",
   "metadata": {
    "id": "UvlN-5zaXdNR"
   },
   "source": [
    "Now let us have a look at the values that we did not predicted correctly :"
   ]
  },
  {
   "cell_type": "code",
   "execution_count": 61,
   "metadata": {
    "id": "8ffJPAGZ6EEg"
   },
   "outputs": [
    {
     "data": {
      "image/png": "[encoded data removed]",
      "text/plain": [
       "<Figure size 432x288 with 1 Axes>"
      ]
     },
     "metadata": {
      "needs_background": "light"
     },
     "output_type": "display_data"
    },
    {
     "data": {
      "image/png": "[encoded data removed]",
      "text/plain": [
       "<Figure size 432x288 with 1 Axes>"
      ]
     },
     "metadata": {
      "needs_background": "light"
     },
     "output_type": "display_data"
    },
    {
     "data": {
      "image/png": "[encoded data removed]",
      "text/plain": [
       "<Figure size 432x288 with 1 Axes>"
      ]
     },
     "metadata": {
      "needs_background": "light"
     },
     "output_type": "display_data"
    }
   ],
   "source": [
    "#Plot the data category wise using scatter plot and visualize the data. Also include labels and legend.\n",
    "#Write the code below\n",
    "#Plot the data categorywise using scatter plot and visualize the data. Also include labels and legend.\n",
    "# Write the code below\n",
    "setosa_real = Check_prediction.loc[Check_prediction.Species_encoded==0]\n",
    "#For the species versicolor          \n",
    "versicolor_real = Check_prediction.loc[Check_prediction.Species_encoded==1]\n",
    "#For the species virginica   \n",
    "virginica_real = Check_prediction.loc[Check_prediction.Species_encoded==2]\n",
    "\n",
    "fig_real,ax_real = plt.subplots()\n",
    "ax_real.scatter(setosa_real.iloc[:,0],setosa_real.iloc[:,1],c='r',label='setosa')\n",
    "ax_real.scatter(versicolor_real.iloc[:,0],versicolor_real.iloc[:,1],c='b',label='versicolor')\n",
    "ax_real.scatter(virginica_real.iloc[:,0],virginica_real.iloc[:,1],c='y',label='virginica')\n",
    "ax_real.set_xlabel('sepal length (cm)')\n",
    "ax_real.set_ylabel('petal width (cm)')\n",
    "ax_real.legend()\n",
    "ax_real.set_title('petal width (cm)vs sepal length (cm)(Correct Label Plot)')\n",
    "plt.show()\n",
    "\n",
    "setosa_predicted = Check_prediction.loc[Check_prediction.Predicted==0]\n",
    "#For the species versicolor          \n",
    "versicolor_predicted = Check_prediction.loc[Check_prediction.Predicted==1]\n",
    "#For the species virginica   \n",
    "virginica_predicted = Check_prediction.loc[Check_prediction.Predicted==2]\n",
    "\n",
    "fig_predicted,ax_predicted = plt.subplots()\n",
    "ax_predicted.scatter(setosa_predicted.iloc[:,0],setosa_predicted.iloc[:,1],c='r',label='setosa')\n",
    "ax_predicted.scatter(versicolor_predicted.iloc[:,0],versicolor_predicted.iloc[:,1],c='b',label='versicolor')\n",
    "ax_predicted.scatter(virginica_predicted.iloc[:,0],virginica_predicted.iloc[:,1],c='y',label='virginica')\n",
    "ax_predicted.set_xlabel('sepal length (cm)')\n",
    "ax_predicted.set_ylabel('petal width (cm)')\n",
    "ax_predicted.legend()\n",
    "ax_predicted.set_title('petal width (cm)vs sepal length (cm)(Predicted Label Plot)')\n",
    "plt.show()\n",
    "\n",
    "\n",
    "#Implement the below code snippet to see the values that were not predicted correctly\n",
    "for index in Check_prediction.index:\n",
    "    if(Check_prediction['Species_encoded'][index]==Check_prediction['Predicted'][index]):\n",
    "        plt.scatter(Check_prediction['sepal length (cm)'][index],Check_prediction['petal width (cm)'][index],marker='x',c='m')\n",
    "    else:\n",
    "        plt.scatter(Check_prediction['sepal length (cm)'][index],Check_prediction['petal width (cm)'][index],marker='*',c='y')"
   ]
  },
  {
   "cell_type": "markdown",
   "metadata": {
    "id": "DBMGlXuIzne2"
   },
   "source": [
    "We should only use this method if time complexity is really important to us as this method estimates the boundary just based on the mean which cannot be always relied on. Hence we see that as the mean of Green and Blue are close together, there are many wrong predictions in that region."
   ]
  },
  {
   "cell_type": "markdown",
   "metadata": {
    "id": "5LXFnIyY7aLu"
   },
   "source": [
    "**9) Compare Results**"
   ]
  },
  {
   "cell_type": "code",
   "execution_count": 62,
   "metadata": {
    "id": "Q534dbt_0fvi"
   },
   "outputs": [
    {
     "name": "stdout",
     "output_type": "stream",
     "text": [
      "ACCURACIES:\n",
      "\n",
      "Nearest Neighbours= 0.9333333333333333\n",
      "K Nearest Neighbours(k = 5) = 0.9666666666666667\n",
      "K Nearest Neighbours(k = 2) = 0.9166666666666666\n",
      "K Nearest Neighbours(k = 12) = 0.95\n",
      "Nearest Mean= 0.75\n",
      "=========================================================================\n",
      "TIMINGS:\n",
      "\n",
      "Nearest Neighbours= 0.05156397819519043\n",
      "K Nearest Neighbours(k = 5) = 0.04397273063659668\n",
      "K Nearest Neighbours(k = 2) = 0.03689146041870117\n",
      "K Nearest Neighbours(k = 12) = 0.038931846618652344\n",
      "Nearest Mean= 0.001993894577026367\n",
      "=========================================================================\n"
     ]
    }
   ],
   "source": [
    "# Do not make changes in this cell\n",
    "# Simply execute it and move on\n",
    "print(\"ACCURACIES:\\n\")\n",
    "print(\"Nearest Neighbours=\",Accuracy_NearestNeighbours)\n",
    "print(\"K Nearest Neighbours(k = 5) =\",Accuracy_k5_NearestNeighbours)\n",
    "print(\"K Nearest Neighbours(k = 2) =\",Accuracy_k2_NearestNeighbours)\n",
    "print(\"K Nearest Neighbours(k = 12) =\",Accuracy_k12_NearestNeighbours)\n",
    "print(\"Nearest Mean=\",Accuracy_NearestMean)\n",
    "print(\"=========================================================================\")\n",
    "print(\"TIMINGS:\\n\")\n",
    "print(\"Nearest Neighbours=\",time_NN)\n",
    "print(\"K Nearest Neighbours(k = 5) =\",time_k5_NN)\n",
    "print(\"K Nearest Neighbours(k = 2) =\",time_k2_NN)\n",
    "print(\"K Nearest Neighbours(k = 12) =\",time_k12_NN)\n",
    "print(\"Nearest Mean=\",time_NM)\n",
    "print(\"=========================================================================\")"
   ]
  },
  {
   "cell_type": "markdown",
   "metadata": {
    "id": "BlAlz9e2fX0Y"
   },
   "source": [
    "On comparing the 3 timings of kNN, we see that the model with least k takes the __B__ time. It feels wrong but it does makes sense. I will explain why.\n",
    "\n",
    "When k is low, the decision boundary changes a lot of times, ie there is a sudden change in the class in a small distance, while when k is large, the decision boundary is smoother and does not changes as often which helps when it comes to time complexity."
   ]
  },
  {
   "cell_type": "code",
   "execution_count": 63,
   "metadata": {
    "id": "OS-Q6NNfeg5G"
   },
   "outputs": [],
   "source": [
    "#Question 10) What will come inplace of B \n",
    "#            Assign the answer to ans[9] for B \n",
    "# B = highest or lowest? Write your response as \"highest\" or \"lowest\" to the ans[9].\n",
    "# Answer is case sensitive. Adhere to the choices given."
   ]
  },
  {
   "cell_type": "code",
   "execution_count": 64,
   "metadata": {
    "id": "acY-paqEekLA"
   },
   "outputs": [],
   "source": [
    "# 1 marks\n",
    "ans[9] =  \"highest\""
   ]
  },
  {
   "cell_type": "markdown",
   "metadata": {
    "id": "iHuE2_8j218i"
   },
   "source": [
    "On comparing the 3 plots, we can see that most of the errors occur at the boundary of 2 different classes. We reduce it slightly using the k nearest neighbours but not completely. \n",
    "\n",
    "Although Nearest mean has a significantly lower time than the other 2 processes, it is not a preffered method. It is because it has very low accuracy and it is very uncertain.\n",
    "\n",
    "The most preffered algorithm is the k nearest neighbour algorithm as it gives very good accuracy as well as acceptable runtime."
   ]
  },
  {
   "cell_type": "markdown",
   "metadata": {
    "id": "OIf1KR2Sf-vP"
   },
   "source": [
    "**sklearn Library**"
   ]
  },
  {
   "cell_type": "markdown",
   "metadata": {
    "id": "vgcrHnVKgExY"
   },
   "source": [
    "There is an inbuilt function to directly perform kNN from sklearn library."
   ]
  },
  {
   "cell_type": "code",
   "execution_count": 65,
   "metadata": {
    "id": "e-0-jShel5GV"
   },
   "outputs": [],
   "source": [
    "# Do not make changes in the below cells\n",
    "# Simply execute it and move on"
   ]
  },
  {
   "cell_type": "code",
   "execution_count": 66,
   "metadata": {
    "id": "hR4B5bIbgD9k"
   },
   "outputs": [],
   "source": [
    "# Import the library\n",
    "\n",
    "from sklearn.neighbors import KNeighborsClassifier "
   ]
  },
  {
   "cell_type": "markdown",
   "metadata": {
    "id": "FTsAEdWpg0qm"
   },
   "source": [
    "We will first do for k = 4"
   ]
  },
  {
   "cell_type": "code",
   "execution_count": 67,
   "metadata": {
    "id": "L7zbW464gplX",
    "scrolled": false
   },
   "outputs": [
    {
     "name": "stdout",
     "output_type": "stream",
     "text": [
      "[0 0 0 0 0 2 1 0 2 1 1 0 1 1 2 0 1 2 2 0 2 2 2 1 0 2 1 1 1 1 0 0 2 1 0 0 1\n",
      " 0 2 1 2 1 0 0 2 1 0 1 2 1 0 0 2 1 1 0 2 0 2 1]\n"
     ]
    }
   ],
   "source": [
    "neigh = KNeighborsClassifier(n_neighbors=4)\n",
    "neigh.fit(X_train,y_train)\n",
    "Predicted = neigh.predict(X_test)\n",
    "print(Predicted)"
   ]
  },
  {
   "cell_type": "markdown",
   "metadata": {
    "id": "VUWpQ5DFhf4s"
   },
   "source": [
    "sklearn also has a funtion to calculate accuracy"
   ]
  },
  {
   "cell_type": "code",
   "execution_count": 68,
   "metadata": {
    "id": "6vaxkYyagtoB"
   },
   "outputs": [
    {
     "name": "stdout",
     "output_type": "stream",
     "text": [
      "Accuracy =  0.9833333333333333\n"
     ]
    }
   ],
   "source": [
    "#Import scikit-learn metrics module for accuracy calculation\n",
    "from sklearn import metrics\n",
    "# Model Accuracy, how often is the classifier correct?\n",
    "print(\"Accuracy = \",metrics.accuracy_score(y_test,Predicted))"
   ]
  },
  {
   "cell_type": "code",
   "execution_count": 69,
   "metadata": {},
   "outputs": [],
   "source": [
    "import json"
   ]
  },
  {
   "cell_type": "code",
   "execution_count": 70,
   "metadata": {
    "id": "At5RTZpqK3e0"
   },
   "outputs": [],
   "source": [
    "# Run the this cell to submit your answers and get score evaluated\"\n",
    "# Do not make any changes in this cell\n",
    "# Simply execute it and move on\n",
    "\n",
    "ans = [item for item in ans]\n",
    "with open('ans.json', 'w') as f:\n",
    "    json.dump(ans, f)"
   ]
  },
  {
   "cell_type": "code",
   "execution_count": 72,
   "metadata": {},
   "outputs": [
    {
     "name": "stdout",
     "output_type": "stream",
     "text": [
      "{'accuracy': 0.4,\r\n",
      " 'response': [{'obtained_marks': 0, 'question': 1, 'total_marks': 1},\r\n",
      "              {'obtained_marks': 0, 'question': 2, 'total_marks': 1},\r\n",
      "              {'obtained_marks': 0, 'question': 3, 'total_marks': 1},\r\n",
      "              {'obtained_marks': 1, 'question': 4, 'total_marks': 1},\r\n",
      "              {'obtained_marks': 0, 'question': 5, 'total_marks': 1},\r\n",
      "              {'obtained_marks': 0, 'question': 6, 'total_marks': 1},\r\n",
      "              {'obtained_marks': 1, 'question': 7, 'total_marks': 1},\r\n",
      "              {'obtained_marks': 1, 'question': 8, 'total_marks': 1},\r\n",
      "              {'obtained_marks': 0, 'question': 9, 'total_marks': 1},\r\n",
      "              {'obtained_marks': 1, 'question': 10, 'total_marks': 1}],\r\n",
      " 'status': 'Success'}\r\n"
     ]
    }
   ],
   "source": [
    "! ../submit ans.json"
   ]
  },
  {
   "cell_type": "markdown",
   "metadata": {
    "id": "8QQD6620h0fw"
   },
   "source": [
    "That is all for Tutorial 6."
   ]
  }
 ],
 "metadata": {
  "colab": {
   "collapsed_sections": [],
   "name": "KNN(Project)-Akshat_Kumar_Gupta.ipynb",
   "provenance": [],
   "toc_visible": true
  },
  "kernelspec": {
   "display_name": "Python 3 (ipykernel)",
   "language": "python",
   "name": "python3"
  },
  "language_info": {
   "codemirror_mode": {
    "name": "ipython",
    "version": 3
   },
   "file_extension": ".py",
   "mimetype": "text/x-python",
   "name": "python",
   "nbconvert_exporter": "python",
   "pygments_lexer": "ipython3",
   "version": "3.9.6"
  }
 },
 "nbformat": 4,
 "nbformat_minor": 1
}
