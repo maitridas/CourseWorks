{
 "cells": [
  {
   "cell_type": "code",
   "execution_count": 1,
   "source": [
    "#Run this cell\r\n",
    "#Importing necessary libraries \r\n",
    "import pandas as pd  \r\n",
    "import numpy as np \r\n",
    "import math\r\n",
    "import matplotlib.pyplot as plt\r\n",
    "import json\r\n",
    "ans=[0]*5"
   ],
   "outputs": [],
   "metadata": {
    "id": "h1wXvjnNrfif"
   }
  },
  {
   "cell_type": "code",
   "execution_count": 2,
   "source": [
    "#Import the dataset and define the feature as well as the target datasets / columns \r\n",
    "df = pd.read_csv(\"zoo.csv\") \r\n",
    "#We drop the animal names since this is not a good feature to split the data on. \r\n",
    "data = df.drop('animal_name', axis =1)\r\n",
    "data"
   ],
   "outputs": [
    {
     "output_type": "execute_result",
     "data": {
      "text/html": [
       "<div>\n",
       "<style scoped>\n",
       "    .dataframe tbody tr th:only-of-type {\n",
       "        vertical-align: middle;\n",
       "    }\n",
       "\n",
       "    .dataframe tbody tr th {\n",
       "        vertical-align: top;\n",
       "    }\n",
       "\n",
       "    .dataframe thead th {\n",
       "        text-align: right;\n",
       "    }\n",
       "</style>\n",
       "<table border=\"1\" class=\"dataframe\">\n",
       "  <thead>\n",
       "    <tr style=\"text-align: right;\">\n",
       "      <th></th>\n",
       "      <th>hair</th>\n",
       "      <th>feathers</th>\n",
       "      <th>eggs</th>\n",
       "      <th>milk</th>\n",
       "      <th>airborne</th>\n",
       "      <th>aquatic</th>\n",
       "      <th>predator</th>\n",
       "      <th>toothed</th>\n",
       "      <th>backbone</th>\n",
       "      <th>breathes</th>\n",
       "      <th>venomous</th>\n",
       "      <th>fins</th>\n",
       "      <th>legs</th>\n",
       "      <th>tail</th>\n",
       "      <th>domestic</th>\n",
       "      <th>catsize</th>\n",
       "      <th>class_type</th>\n",
       "    </tr>\n",
       "  </thead>\n",
       "  <tbody>\n",
       "    <tr>\n",
       "      <th>0</th>\n",
       "      <td>1</td>\n",
       "      <td>0</td>\n",
       "      <td>0</td>\n",
       "      <td>1</td>\n",
       "      <td>0</td>\n",
       "      <td>0</td>\n",
       "      <td>1</td>\n",
       "      <td>1</td>\n",
       "      <td>1</td>\n",
       "      <td>1</td>\n",
       "      <td>0</td>\n",
       "      <td>0</td>\n",
       "      <td>4</td>\n",
       "      <td>0</td>\n",
       "      <td>0</td>\n",
       "      <td>1</td>\n",
       "      <td>1</td>\n",
       "    </tr>\n",
       "    <tr>\n",
       "      <th>1</th>\n",
       "      <td>1</td>\n",
       "      <td>0</td>\n",
       "      <td>0</td>\n",
       "      <td>1</td>\n",
       "      <td>0</td>\n",
       "      <td>0</td>\n",
       "      <td>0</td>\n",
       "      <td>1</td>\n",
       "      <td>1</td>\n",
       "      <td>1</td>\n",
       "      <td>0</td>\n",
       "      <td>0</td>\n",
       "      <td>4</td>\n",
       "      <td>1</td>\n",
       "      <td>0</td>\n",
       "      <td>1</td>\n",
       "      <td>1</td>\n",
       "    </tr>\n",
       "    <tr>\n",
       "      <th>2</th>\n",
       "      <td>0</td>\n",
       "      <td>0</td>\n",
       "      <td>1</td>\n",
       "      <td>0</td>\n",
       "      <td>0</td>\n",
       "      <td>1</td>\n",
       "      <td>1</td>\n",
       "      <td>1</td>\n",
       "      <td>1</td>\n",
       "      <td>0</td>\n",
       "      <td>0</td>\n",
       "      <td>1</td>\n",
       "      <td>0</td>\n",
       "      <td>1</td>\n",
       "      <td>0</td>\n",
       "      <td>0</td>\n",
       "      <td>4</td>\n",
       "    </tr>\n",
       "    <tr>\n",
       "      <th>3</th>\n",
       "      <td>1</td>\n",
       "      <td>0</td>\n",
       "      <td>0</td>\n",
       "      <td>1</td>\n",
       "      <td>0</td>\n",
       "      <td>0</td>\n",
       "      <td>1</td>\n",
       "      <td>1</td>\n",
       "      <td>1</td>\n",
       "      <td>1</td>\n",
       "      <td>0</td>\n",
       "      <td>0</td>\n",
       "      <td>4</td>\n",
       "      <td>0</td>\n",
       "      <td>0</td>\n",
       "      <td>1</td>\n",
       "      <td>1</td>\n",
       "    </tr>\n",
       "    <tr>\n",
       "      <th>4</th>\n",
       "      <td>1</td>\n",
       "      <td>0</td>\n",
       "      <td>0</td>\n",
       "      <td>1</td>\n",
       "      <td>0</td>\n",
       "      <td>0</td>\n",
       "      <td>1</td>\n",
       "      <td>1</td>\n",
       "      <td>1</td>\n",
       "      <td>1</td>\n",
       "      <td>0</td>\n",
       "      <td>0</td>\n",
       "      <td>4</td>\n",
       "      <td>1</td>\n",
       "      <td>0</td>\n",
       "      <td>1</td>\n",
       "      <td>1</td>\n",
       "    </tr>\n",
       "    <tr>\n",
       "      <th>...</th>\n",
       "      <td>...</td>\n",
       "      <td>...</td>\n",
       "      <td>...</td>\n",
       "      <td>...</td>\n",
       "      <td>...</td>\n",
       "      <td>...</td>\n",
       "      <td>...</td>\n",
       "      <td>...</td>\n",
       "      <td>...</td>\n",
       "      <td>...</td>\n",
       "      <td>...</td>\n",
       "      <td>...</td>\n",
       "      <td>...</td>\n",
       "      <td>...</td>\n",
       "      <td>...</td>\n",
       "      <td>...</td>\n",
       "      <td>...</td>\n",
       "    </tr>\n",
       "    <tr>\n",
       "      <th>96</th>\n",
       "      <td>1</td>\n",
       "      <td>0</td>\n",
       "      <td>0</td>\n",
       "      <td>1</td>\n",
       "      <td>0</td>\n",
       "      <td>0</td>\n",
       "      <td>0</td>\n",
       "      <td>1</td>\n",
       "      <td>1</td>\n",
       "      <td>1</td>\n",
       "      <td>0</td>\n",
       "      <td>0</td>\n",
       "      <td>2</td>\n",
       "      <td>1</td>\n",
       "      <td>0</td>\n",
       "      <td>1</td>\n",
       "      <td>1</td>\n",
       "    </tr>\n",
       "    <tr>\n",
       "      <th>97</th>\n",
       "      <td>1</td>\n",
       "      <td>0</td>\n",
       "      <td>1</td>\n",
       "      <td>0</td>\n",
       "      <td>1</td>\n",
       "      <td>0</td>\n",
       "      <td>0</td>\n",
       "      <td>0</td>\n",
       "      <td>0</td>\n",
       "      <td>1</td>\n",
       "      <td>1</td>\n",
       "      <td>0</td>\n",
       "      <td>6</td>\n",
       "      <td>0</td>\n",
       "      <td>0</td>\n",
       "      <td>0</td>\n",
       "      <td>6</td>\n",
       "    </tr>\n",
       "    <tr>\n",
       "      <th>98</th>\n",
       "      <td>1</td>\n",
       "      <td>0</td>\n",
       "      <td>0</td>\n",
       "      <td>1</td>\n",
       "      <td>0</td>\n",
       "      <td>0</td>\n",
       "      <td>1</td>\n",
       "      <td>1</td>\n",
       "      <td>1</td>\n",
       "      <td>1</td>\n",
       "      <td>0</td>\n",
       "      <td>0</td>\n",
       "      <td>4</td>\n",
       "      <td>1</td>\n",
       "      <td>0</td>\n",
       "      <td>1</td>\n",
       "      <td>1</td>\n",
       "    </tr>\n",
       "    <tr>\n",
       "      <th>99</th>\n",
       "      <td>0</td>\n",
       "      <td>0</td>\n",
       "      <td>1</td>\n",
       "      <td>0</td>\n",
       "      <td>0</td>\n",
       "      <td>0</td>\n",
       "      <td>0</td>\n",
       "      <td>0</td>\n",
       "      <td>0</td>\n",
       "      <td>1</td>\n",
       "      <td>0</td>\n",
       "      <td>0</td>\n",
       "      <td>0</td>\n",
       "      <td>0</td>\n",
       "      <td>0</td>\n",
       "      <td>0</td>\n",
       "      <td>7</td>\n",
       "    </tr>\n",
       "    <tr>\n",
       "      <th>100</th>\n",
       "      <td>0</td>\n",
       "      <td>1</td>\n",
       "      <td>1</td>\n",
       "      <td>0</td>\n",
       "      <td>1</td>\n",
       "      <td>0</td>\n",
       "      <td>0</td>\n",
       "      <td>0</td>\n",
       "      <td>1</td>\n",
       "      <td>1</td>\n",
       "      <td>0</td>\n",
       "      <td>0</td>\n",
       "      <td>2</td>\n",
       "      <td>1</td>\n",
       "      <td>0</td>\n",
       "      <td>0</td>\n",
       "      <td>2</td>\n",
       "    </tr>\n",
       "  </tbody>\n",
       "</table>\n",
       "<p>101 rows × 17 columns</p>\n",
       "</div>"
      ],
      "text/plain": [
       "     hair  feathers  eggs  milk  airborne  aquatic  predator  toothed  \\\n",
       "0       1         0     0     1         0        0         1        1   \n",
       "1       1         0     0     1         0        0         0        1   \n",
       "2       0         0     1     0         0        1         1        1   \n",
       "3       1         0     0     1         0        0         1        1   \n",
       "4       1         0     0     1         0        0         1        1   \n",
       "..    ...       ...   ...   ...       ...      ...       ...      ...   \n",
       "96      1         0     0     1         0        0         0        1   \n",
       "97      1         0     1     0         1        0         0        0   \n",
       "98      1         0     0     1         0        0         1        1   \n",
       "99      0         0     1     0         0        0         0        0   \n",
       "100     0         1     1     0         1        0         0        0   \n",
       "\n",
       "     backbone  breathes  venomous  fins  legs  tail  domestic  catsize  \\\n",
       "0           1         1         0     0     4     0         0        1   \n",
       "1           1         1         0     0     4     1         0        1   \n",
       "2           1         0         0     1     0     1         0        0   \n",
       "3           1         1         0     0     4     0         0        1   \n",
       "4           1         1         0     0     4     1         0        1   \n",
       "..        ...       ...       ...   ...   ...   ...       ...      ...   \n",
       "96          1         1         0     0     2     1         0        1   \n",
       "97          0         1         1     0     6     0         0        0   \n",
       "98          1         1         0     0     4     1         0        1   \n",
       "99          0         1         0     0     0     0         0        0   \n",
       "100         1         1         0     0     2     1         0        0   \n",
       "\n",
       "     class_type  \n",
       "0             1  \n",
       "1             1  \n",
       "2             4  \n",
       "3             1  \n",
       "4             1  \n",
       "..          ...  \n",
       "96            1  \n",
       "97            6  \n",
       "98            1  \n",
       "99            7  \n",
       "100           2  \n",
       "\n",
       "[101 rows x 17 columns]"
      ]
     },
     "metadata": {},
     "execution_count": 2
    }
   ],
   "metadata": {
    "colab": {
     "base_uri": "https://localhost:8080/",
     "height": 444
    },
    "id": "DwSVIBfD0qNR",
    "outputId": "cdf0757f-7dd4-4a08-8067-d6700274a029"
   }
  },
  {
   "cell_type": "code",
   "execution_count": 3,
   "source": [
    "#Write a function to find the entropy on a split \"target_col\"\r\n",
    "#def entropy(target_col):\r\n",
    "def find_entropy (a):\r\n",
    "    count = []\r\n",
    "    entropy = 0\r\n",
    "    for x in a.unique():\r\n",
    "        mask = (a == x)\r\n",
    "        counter = len(a.where(mask).dropna())\r\n",
    "        prob = counter / len(a)\r\n",
    "        count.append ((x, counter, prob))\r\n",
    "        entropy += prob*(math.log(prob,2)) \r\n",
    "        #print (entropy)\r\n",
    "    #print (count)\r\n",
    "    return -1*entropy"
   ],
   "outputs": [],
   "metadata": {
    "id": "JVym-1Gp07wb"
   }
  },
  {
   "cell_type": "code",
   "execution_count": 4,
   "source": [
    "#Find the entropy of all the features in the dataset\r\n",
    "#Save all the feature names in an array \"feature names\"\r\n",
    "feature_names=['hair','feathers','eggs','milk','airborne','aquatic','predator','toothed','backbone', \r\n",
    "               'breathes','venomous','fins','legs','tail','domestic','catsize']\r\n",
    "entropies = []\r\n",
    "for  x in feature_names:\r\n",
    "    entropies.append((x, find_entropy(data[x])))\r\n",
    "entropies"
   ],
   "outputs": [
    {
     "output_type": "execute_result",
     "data": {
      "text/plain": [
       "[('hair', 0.9840304711717017),\n",
       " ('feathers', 0.7179499765002912),\n",
       " ('eggs', 0.9794662187017299),\n",
       " ('milk', 0.9743197211096903),\n",
       " ('airborne', 0.7910662980902585),\n",
       " ('aquatic', 0.9396846718728563),\n",
       " ('predator', 0.9914266810680207),\n",
       " ('toothed', 0.9685867165455516),\n",
       " ('backbone', 0.6761627418829198),\n",
       " ('breathes', 0.7374895672137456),\n",
       " ('venomous', 0.3993820824245975),\n",
       " ('fins', 0.653839880626333),\n",
       " ('legs', 2.0338113440641234),\n",
       " ('tail', 0.8228368841492257),\n",
       " ('domestic', 0.5538976334852962),\n",
       " ('catsize', 0.9880162151534646)]"
      ]
     },
     "metadata": {},
     "execution_count": 4
    }
   ],
   "metadata": {
    "colab": {
     "base_uri": "https://localhost:8080/"
    },
    "id": "qGD6L7r5gGrL",
    "outputId": "2e6eb062-3dc3-49e3-b5bb-c43d27e19ee9"
   }
  },
  {
   "cell_type": "code",
   "execution_count": 5,
   "source": [
    "#Find the entropy of the feature \"toothed\"\r\n",
    "ans[0]= find_entropy(data[\"toothed\"])"
   ],
   "outputs": [],
   "metadata": {
    "id": "V_J9cZxf2VJ3"
   }
  },
  {
   "cell_type": "code",
   "execution_count": 6,
   "source": [
    "#Write a function to calculate Information Gain on a split attribute and a target column\r\n",
    "def InfoGain(data,split_attribute_name,target_name=\"class_type\"):       \r\n",
    "    #Calculate the entropy of the total dataset  \r\n",
    "    total_entropy = find_entropy(data[target_name])\r\n",
    "    #Calculate the values and the corresponding counts for the split attribute   \r\n",
    "    count = []\r\n",
    "    entropy = 0\r\n",
    "    Weighted_Entropy =0\r\n",
    "    for x in data[split_attribute_name].unique():\r\n",
    "        mask = (data[split_attribute_name] == x)\r\n",
    "        counter = len(data[split_attribute_name].where(mask).dropna())\r\n",
    "        prob = counter / len(data[split_attribute_name])\r\n",
    "        count.append ((x, counter, prob))\r\n",
    "    #Calculate the weighted entropy\r\n",
    "    for i in range(len(count)):\r\n",
    "        mask = (data[split_attribute_name]==count[i][0])\r\n",
    "        a = data.where(mask).dropna()[target_name]\r\n",
    "        Weighted_Entropy = Weighted_Entropy + count[i][2]*find_entropy(a) \r\n",
    "    #Calculate the information gain  \r\n",
    "    Information_Gain = total_entropy - Weighted_Entropy\r\n",
    "    #print(np.sum(counts))\r\n",
    "    return Information_Gain"
   ],
   "outputs": [],
   "metadata": {
    "id": "I7ywT3IbGFsM"
   }
  },
  {
   "cell_type": "code",
   "execution_count": 7,
   "source": [
    "ans[1]=InfoGain(data,'hair',\"milk\")"
   ],
   "outputs": [],
   "metadata": {
    "id": "nZiN-RjgGFsN"
   }
  },
  {
   "cell_type": "code",
   "execution_count": 8,
   "source": [
    "#Find the Info gain having \"milk\" as the split attribute and all the other features as target features one at a time\r\n",
    "InfoGain(data,'milk')"
   ],
   "outputs": [
    {
     "output_type": "execute_result",
     "data": {
      "text/plain": [
       "0.9743197211096903"
      ]
     },
     "metadata": {},
     "execution_count": 8
    }
   ],
   "metadata": {
    "colab": {
     "base_uri": "https://localhost:8080/"
    },
    "id": "sRiOQRe8lL-i",
    "outputId": "942a465c-558f-4afb-a22d-088b5107aa08"
   }
  },
  {
   "cell_type": "code",
   "execution_count": 9,
   "source": [
    "#Import Decision Tree Classifier from sklearn \r\n",
    "from sklearn.tree import DecisionTreeClassifier\r\n",
    "from sklearn.model_selection import train_test_split\r\n",
    "import sklearn.metrics as metrics\r\n",
    "from sklearn.metrics import accuracy_score\r\n",
    "X = data.drop('class_type', axis =1)\r\n",
    "y = df['class_type']\r\n",
    "#Split the given data into 80 percent training data and 20 percent testing data\r\n",
    "X_train,X_test, y_train, y_test=train_test_split(X, y,train_size=0.8,random_state=1)"
   ],
   "outputs": [],
   "metadata": {
    "id": "YFEBzgI41eeJ"
   }
  },
  {
   "cell_type": "code",
   "execution_count": 10,
   "source": [
    "#Fit the given data\r\n",
    "decision_tree = DecisionTreeClassifier(random_state=42)   \r\n",
    "decision_tree.fit(X_train,y_train)\r\n",
    "pred = decision_tree.predict(X_test)"
   ],
   "outputs": [],
   "metadata": {
    "id": "AZXmFwU410JI"
   }
  },
  {
   "cell_type": "code",
   "execution_count": 11,
   "source": [
    "#Make a prediction on the test data and return the percentage of accuracy\r\n",
    "ans[2]= accuracy_score(y_test, pred)"
   ],
   "outputs": [],
   "metadata": {
    "id": "aTreS7NKkFqH"
   }
  },
  {
   "cell_type": "code",
   "execution_count": 12,
   "source": [
    "#Run this cell to visualize the decision tree\r\n",
    "from six import StringIO  \r\n",
    "from IPython.display import Image  \r\n",
    "from sklearn.tree import export_graphviz\r\n",
    "import pydotplus\r\n",
    "\r\n",
    "dot_data = StringIO()\r\n",
    "export_graphviz(decision_tree, out_file=dot_data, feature_names=feature_names,  \r\n",
    "                filled=True, rounded=True,\r\n",
    "                special_characters=True)\r\n",
    "graph = pydotplus.graph_from_dot_data(dot_data.getvalue())  \r\n",
    "Image(graph.create_png())"
   ],
   "outputs": [
    {
     "output_type": "error",
     "ename": "ModuleNotFoundError",
     "evalue": "No module named 'pydotplus'",
     "traceback": [
      "\u001b[1;31m---------------------------------------------------------------------------\u001b[0m",
      "\u001b[1;31mModuleNotFoundError\u001b[0m                       Traceback (most recent call last)",
      "\u001b[1;32m~\\AppData\\Local\\Temp/ipykernel_3420/4286724374.py\u001b[0m in \u001b[0;36m<module>\u001b[1;34m\u001b[0m\n\u001b[0;32m      3\u001b[0m \u001b[1;32mfrom\u001b[0m \u001b[0mIPython\u001b[0m\u001b[1;33m.\u001b[0m\u001b[0mdisplay\u001b[0m \u001b[1;32mimport\u001b[0m \u001b[0mImage\u001b[0m\u001b[1;33m\u001b[0m\u001b[1;33m\u001b[0m\u001b[0m\n\u001b[0;32m      4\u001b[0m \u001b[1;32mfrom\u001b[0m \u001b[0msklearn\u001b[0m\u001b[1;33m.\u001b[0m\u001b[0mtree\u001b[0m \u001b[1;32mimport\u001b[0m \u001b[0mexport_graphviz\u001b[0m\u001b[1;33m\u001b[0m\u001b[1;33m\u001b[0m\u001b[0m\n\u001b[1;32m----> 5\u001b[1;33m \u001b[1;32mimport\u001b[0m \u001b[0mpydotplus\u001b[0m\u001b[1;33m\u001b[0m\u001b[1;33m\u001b[0m\u001b[0m\n\u001b[0m\u001b[0;32m      6\u001b[0m \u001b[1;33m\u001b[0m\u001b[0m\n\u001b[0;32m      7\u001b[0m \u001b[0mdot_data\u001b[0m \u001b[1;33m=\u001b[0m \u001b[0mStringIO\u001b[0m\u001b[1;33m(\u001b[0m\u001b[1;33m)\u001b[0m\u001b[1;33m\u001b[0m\u001b[1;33m\u001b[0m\u001b[0m\n",
      "\u001b[1;31mModuleNotFoundError\u001b[0m: No module named 'pydotplus'"
     ]
    }
   ],
   "metadata": {
    "colab": {
     "base_uri": "https://localhost:8080/",
     "height": 624
    },
    "id": "U5YdmNcs34ZS",
    "outputId": "f4bade79-ea9a-4b8c-b8df-c8683274eab8"
   }
  },
  {
   "cell_type": "code",
   "execution_count": 18,
   "source": [
    "#Use sklearn to make a classification report and a confusion matrix\r\n",
    "from sklearn.metrics import classification_report, confusion_matrix\r\n",
    "from sklearn.metrics import precision_recall_fscore_support\r\n",
    "print(metrics.confusion_matrix(y_test, pred))\r\n",
    "print(metrics.classification_report(y_test, pred, zero_division=0))\r\n",
    "result = precision_recall_fscore_support(y_test, pred)"
   ],
   "outputs": [
    {
     "output_type": "stream",
     "name": "stdout",
     "text": [
      "[[11  0  0  0  0  0]\n",
      " [ 0  5  0  0  0  0]\n",
      " [ 0  0  1  0  0  0]\n",
      " [ 0  0  0  1  0  0]\n",
      " [ 0  0  1  0  0  0]\n",
      " [ 0  0  0  0  0  2]]\n",
      "              precision    recall  f1-score   support\n",
      "\n",
      "           1       1.00      1.00      1.00        11\n",
      "           2       1.00      1.00      1.00         5\n",
      "           3       0.50      1.00      0.67         1\n",
      "           4       1.00      1.00      1.00         1\n",
      "           5       0.00      0.00      0.00         1\n",
      "           7       1.00      1.00      1.00         2\n",
      "\n",
      "    accuracy                           0.95        21\n",
      "   macro avg       0.75      0.83      0.78        21\n",
      "weighted avg       0.93      0.95      0.94        21\n",
      "\n"
     ]
    },
    {
     "output_type": "stream",
     "name": "stderr",
     "text": [
      "/usr/local/lib/python3.7/dist-packages/sklearn/metrics/_classification.py:1272: UndefinedMetricWarning: Precision and F-score are ill-defined and being set to 0.0 in labels with no predicted samples. Use `zero_division` parameter to control this behavior.\n",
      "  _warn_prf(average, modifier, msg_start, len(result))\n"
     ]
    }
   ],
   "metadata": {
    "colab": {
     "base_uri": "https://localhost:8080/"
    },
    "id": "MAHqi9VFOCJQ",
    "outputId": "15a595ba-0042-465e-8d97-b081f644589b"
   }
  },
  {
   "cell_type": "code",
   "execution_count": 19,
   "source": [
    "#Find the recall,f1-score for class type '3'\r\n",
    "ans[3]= [result[2][1],result[2][2]]"
   ],
   "outputs": [],
   "metadata": {
    "id": "HoMrBh0EloU9"
   }
  },
  {
   "cell_type": "code",
   "execution_count": 20,
   "source": [
    "#Calculate Mean Absolute Error,Mean Squared Error and Root Mean Squared Error\r\n",
    "from sklearn.metrics import mean_absolute_error\r\n",
    "mse=metrics.mean_squared_error(y_test,pred)\r\n",
    "rmse=math.sqrt(mse)\r\n",
    "mae=metrics.mean_absolute_error(y_test,pred)"
   ],
   "outputs": [],
   "metadata": {
    "id": "t9gD7kPvPBQj"
   }
  },
  {
   "cell_type": "code",
   "execution_count": 21,
   "source": [
    "#Find the mean absolute error and root mean square error, save then in a list [mae,rmse]\r\n",
    "ans[4]=[mae,rmse]"
   ],
   "outputs": [],
   "metadata": {
    "id": "tYB4hvfhk7TA"
   }
  },
  {
   "cell_type": "code",
   "execution_count": 22,
   "source": [
    "##do not change this code\r\n",
    "import json\r\n",
    "ans = [str(item) for item in ans]\r\n",
    "\r\n",
    "filename = \"\"\r\n",
    "\r\n",
    "# Eg if your name is Saurav Joshi and email id is sauravjoshi123@gmail.com, filename becomes\r\n",
    "# filename = sauravjoshi123@gmail.com_Saurav_Joshi_LinearRegression"
   ],
   "outputs": [],
   "metadata": {
    "id": "ktlLqpDqd9c1"
   }
  },
  {
   "cell_type": "code",
   "execution_count": 23,
   "source": [
    "ans"
   ],
   "outputs": [
    {
     "output_type": "execute_result",
     "data": {
      "text/plain": [
       "['0.9685867165455516',\n",
       " '0.6599660577558697',\n",
       " '0.9523809523809523',\n",
       " '[1.0, 0.6666666666666666]',\n",
       " '[0.09523809523809523, 0.4364357804719847]']"
      ]
     },
     "metadata": {},
     "execution_count": 23
    }
   ],
   "metadata": {
    "colab": {
     "base_uri": "https://localhost:8080/"
    },
    "id": "JQFxcC2sGFsS",
    "outputId": "35a1b410-60b0-4e14-bc60-67138043034e"
   }
  },
  {
   "cell_type": "markdown",
   "source": [
    "## Do not change anything below!!\n",
    "- Make sure you have changed the above variable \"filename\" with the correct value. Do not change anything below!!"
   ],
   "metadata": {
    "id": "uI-WIeG_GFsS"
   }
  },
  {
   "cell_type": "code",
   "execution_count": null,
   "source": [
    "from importlib import import_module\r\n",
    "import os\r\n",
    "from pprint import pprint\r\n",
    "\r\n",
    "findScore = import_module('findScore')\r\n",
    "response = findScore.main(ans)\r\n",
    "response['details'] = filename\r\n",
    "with open(f'evaluation_{filename}.json', 'w') as outfile:\r\n",
    "    json.dump(response, outfile)\r\n",
    "pprint(response)"
   ],
   "outputs": [],
   "metadata": {
    "id": "uK3zqBPLGFsU"
   }
  }
 ],
 "metadata": {
  "colab": {
   "name": "groupno_FirstName_LastName_DecisionTrees.ipynb",
   "provenance": []
  },
  "kernelspec": {
   "display_name": "Python 3 (ipykernel)",
   "language": "python",
   "name": "python3"
  },
  "language_info": {
   "codemirror_mode": {
    "name": "ipython",
    "version": 3
   },
   "file_extension": ".py",
   "mimetype": "text/x-python",
   "name": "python",
   "nbconvert_exporter": "python",
   "pygments_lexer": "ipython3",
   "version": "3.9.6"
  }
 },
 "nbformat": 4,
 "nbformat_minor": 1
}