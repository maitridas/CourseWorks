{
 "cells": [
  {
   "cell_type": "markdown",
   "metadata": {
    "id": "JbIKDfFW45Ux"
   },
   "source": [
    "# FEATURE SELECTION\n",
    "Feature selection is a process where you automatically or manually select those features which have the maximum contribution to your model prediction output. Having irrelevant features can lead to a decrease in accuracy as your model learns from insignificant features.\n",
    "\n",
    "This assignment will focus on manual selection of relevant features.\n",
    "The dataset is of different camera models with different featues and their price. \n",
    "\n",
    "The assignment has both marked questions and unmarked ones. \n",
    "All questions written beside QUESTION # are evaluated for your final score and the ones that are not have been given only to improve your understanding."
   ]
  },
  {
   "cell_type": "markdown",
   "metadata": {
    "id": "lTtpMl2W54P7"
   },
   "source": [
    "## 1. Importing Important Packages"
   ]
  },
  {
   "cell_type": "code",
   "execution_count": 1,
   "metadata": {
    "id": "UMOQ75XN4v9X"
   },
   "outputs": [],
   "source": [
    "# ALL NECESSARY PACKAGES HAVE BEEN IMPORTED FOR YOU\n",
    "# DO NOT MAKE ANY CHANGES IN THIS CODE CELL!\n",
    "\n",
    "import numpy as np\n",
    "import pandas as pd\n",
    "import matplotlib.pyplot as plt\n",
    "from sklearn.linear_model import LinearRegression \n",
    "from sklearn.model_selection import train_test_split\n",
    "import json\n",
    "ans = [None]*8"
   ]
  },
  {
   "cell_type": "markdown",
   "metadata": {
    "id": "sJApY7_B8sbD"
   },
   "source": [
    "## 2. Importing the Dataset\n"
   ]
  },
  {
   "cell_type": "code",
   "execution_count": 2,
   "metadata": {
    "id": "oK2veMTk468d"
   },
   "outputs": [
    {
     "data": {
      "text/html": [
       "<div>\n",
       "<style scoped>\n",
       "    .dataframe tbody tr th:only-of-type {\n",
       "        vertical-align: middle;\n",
       "    }\n",
       "\n",
       "    .dataframe tbody tr th {\n",
       "        vertical-align: top;\n",
       "    }\n",
       "\n",
       "    .dataframe thead th {\n",
       "        text-align: right;\n",
       "    }\n",
       "</style>\n",
       "<table border=\"1\" class=\"dataframe\">\n",
       "  <thead>\n",
       "    <tr style=\"text-align: right;\">\n",
       "      <th></th>\n",
       "      <th>Model</th>\n",
       "      <th>Release date</th>\n",
       "      <th>Max resolution</th>\n",
       "      <th>Low resolution</th>\n",
       "      <th>Effective pixels</th>\n",
       "      <th>Zoom wide (W)</th>\n",
       "      <th>Zoom tele (T)</th>\n",
       "      <th>Normal focus range</th>\n",
       "      <th>Macro focus range</th>\n",
       "      <th>Storage included</th>\n",
       "      <th>Weight (inc. batteries)</th>\n",
       "      <th>Dimensions</th>\n",
       "      <th>Price</th>\n",
       "    </tr>\n",
       "  </thead>\n",
       "  <tbody>\n",
       "    <tr>\n",
       "      <th>0</th>\n",
       "      <td>Agfa ePhoto 1280</td>\n",
       "      <td>1997</td>\n",
       "      <td>1024.0</td>\n",
       "      <td>640.0</td>\n",
       "      <td>0.0</td>\n",
       "      <td>38.0</td>\n",
       "      <td>114.0</td>\n",
       "      <td>70.0</td>\n",
       "      <td>40.0</td>\n",
       "      <td>4.0</td>\n",
       "      <td>420.0</td>\n",
       "      <td>95.0</td>\n",
       "      <td>179.0</td>\n",
       "    </tr>\n",
       "    <tr>\n",
       "      <th>1</th>\n",
       "      <td>Agfa ePhoto 1680</td>\n",
       "      <td>1998</td>\n",
       "      <td>1280.0</td>\n",
       "      <td>640.0</td>\n",
       "      <td>1.0</td>\n",
       "      <td>38.0</td>\n",
       "      <td>114.0</td>\n",
       "      <td>50.0</td>\n",
       "      <td>0.0</td>\n",
       "      <td>4.0</td>\n",
       "      <td>420.0</td>\n",
       "      <td>158.0</td>\n",
       "      <td>179.0</td>\n",
       "    </tr>\n",
       "    <tr>\n",
       "      <th>2</th>\n",
       "      <td>Agfa ePhoto CL18</td>\n",
       "      <td>2000</td>\n",
       "      <td>640.0</td>\n",
       "      <td>0.0</td>\n",
       "      <td>0.0</td>\n",
       "      <td>45.0</td>\n",
       "      <td>45.0</td>\n",
       "      <td>0.0</td>\n",
       "      <td>0.0</td>\n",
       "      <td>2.0</td>\n",
       "      <td>0.0</td>\n",
       "      <td>0.0</td>\n",
       "      <td>179.0</td>\n",
       "    </tr>\n",
       "    <tr>\n",
       "      <th>3</th>\n",
       "      <td>Agfa ePhoto CL30</td>\n",
       "      <td>1999</td>\n",
       "      <td>1152.0</td>\n",
       "      <td>640.0</td>\n",
       "      <td>0.0</td>\n",
       "      <td>35.0</td>\n",
       "      <td>35.0</td>\n",
       "      <td>0.0</td>\n",
       "      <td>0.0</td>\n",
       "      <td>4.0</td>\n",
       "      <td>0.0</td>\n",
       "      <td>0.0</td>\n",
       "      <td>269.0</td>\n",
       "    </tr>\n",
       "    <tr>\n",
       "      <th>4</th>\n",
       "      <td>Agfa ePhoto CL30 Clik!</td>\n",
       "      <td>1999</td>\n",
       "      <td>1152.0</td>\n",
       "      <td>640.0</td>\n",
       "      <td>0.0</td>\n",
       "      <td>43.0</td>\n",
       "      <td>43.0</td>\n",
       "      <td>50.0</td>\n",
       "      <td>0.0</td>\n",
       "      <td>40.0</td>\n",
       "      <td>300.0</td>\n",
       "      <td>128.0</td>\n",
       "      <td>1299.0</td>\n",
       "    </tr>\n",
       "  </tbody>\n",
       "</table>\n",
       "</div>"
      ],
      "text/plain": [
       "                    Model  Release date  Max resolution  Low resolution  \\\n",
       "0        Agfa ePhoto 1280          1997          1024.0           640.0   \n",
       "1        Agfa ePhoto 1680          1998          1280.0           640.0   \n",
       "2        Agfa ePhoto CL18          2000           640.0             0.0   \n",
       "3        Agfa ePhoto CL30          1999          1152.0           640.0   \n",
       "4  Agfa ePhoto CL30 Clik!          1999          1152.0           640.0   \n",
       "\n",
       "   Effective pixels  Zoom wide (W)  Zoom tele (T)  Normal focus range  \\\n",
       "0               0.0           38.0          114.0                70.0   \n",
       "1               1.0           38.0          114.0                50.0   \n",
       "2               0.0           45.0           45.0                 0.0   \n",
       "3               0.0           35.0           35.0                 0.0   \n",
       "4               0.0           43.0           43.0                50.0   \n",
       "\n",
       "   Macro focus range  Storage included  Weight (inc. batteries)  Dimensions  \\\n",
       "0               40.0               4.0                    420.0        95.0   \n",
       "1                0.0               4.0                    420.0       158.0   \n",
       "2                0.0               2.0                      0.0         0.0   \n",
       "3                0.0               4.0                      0.0         0.0   \n",
       "4                0.0              40.0                    300.0       128.0   \n",
       "\n",
       "    Price  \n",
       "0   179.0  \n",
       "1   179.0  \n",
       "2   179.0  \n",
       "3   269.0  \n",
       "4  1299.0  "
      ]
     },
     "execution_count": 2,
     "metadata": {},
     "output_type": "execute_result"
    }
   ],
   "source": [
    "# THE DATASET HAS BEEN IMPORTED AND STORED IN THE VARIABLE DATASET\n",
    "# A SMALL SET OF THE DATA HAS BEEN SHOWN WHICH WILL GIVE A BRIEF UNDERSTANDING OF THE DATASET\n",
    "# THE DESCRIPTION OF THE DATA HAS ALSO BEEN PRINTED\n",
    "# DO NOT MAKE CHANGES IN THE CELL!\n",
    "\n",
    "dataset = pd.read_csv(\"camera_dataset.csv\")\n",
    "dataset.head()"
   ]
  },
  {
   "cell_type": "code",
   "execution_count": 3,
   "metadata": {
    "id": "bIhwr-q7AsO4"
   },
   "outputs": [
    {
     "name": "stdout",
     "output_type": "stream",
     "text": [
      "Statistics of the Dataset: \n",
      "\n"
     ]
    },
    {
     "data": {
      "text/html": [
       "<div>\n",
       "<style scoped>\n",
       "    .dataframe tbody tr th:only-of-type {\n",
       "        vertical-align: middle;\n",
       "    }\n",
       "\n",
       "    .dataframe tbody tr th {\n",
       "        vertical-align: top;\n",
       "    }\n",
       "\n",
       "    .dataframe thead th {\n",
       "        text-align: right;\n",
       "    }\n",
       "</style>\n",
       "<table border=\"1\" class=\"dataframe\">\n",
       "  <thead>\n",
       "    <tr style=\"text-align: right;\">\n",
       "      <th></th>\n",
       "      <th>Release date</th>\n",
       "      <th>Max resolution</th>\n",
       "      <th>Low resolution</th>\n",
       "      <th>Effective pixels</th>\n",
       "      <th>Zoom wide (W)</th>\n",
       "      <th>Zoom tele (T)</th>\n",
       "      <th>Normal focus range</th>\n",
       "      <th>Macro focus range</th>\n",
       "      <th>Storage included</th>\n",
       "      <th>Weight (inc. batteries)</th>\n",
       "      <th>Dimensions</th>\n",
       "      <th>Price</th>\n",
       "    </tr>\n",
       "  </thead>\n",
       "  <tbody>\n",
       "    <tr>\n",
       "      <th>count</th>\n",
       "      <td>1038.000000</td>\n",
       "      <td>1038.000000</td>\n",
       "      <td>1038.000000</td>\n",
       "      <td>1038.000000</td>\n",
       "      <td>1038.000000</td>\n",
       "      <td>1038.000000</td>\n",
       "      <td>1038.000000</td>\n",
       "      <td>1037.000000</td>\n",
       "      <td>1036.000000</td>\n",
       "      <td>1036.000000</td>\n",
       "      <td>1036.000000</td>\n",
       "      <td>1038.000000</td>\n",
       "    </tr>\n",
       "    <tr>\n",
       "      <th>mean</th>\n",
       "      <td>2003.590559</td>\n",
       "      <td>2474.672447</td>\n",
       "      <td>1773.936416</td>\n",
       "      <td>4.596339</td>\n",
       "      <td>32.963391</td>\n",
       "      <td>121.525048</td>\n",
       "      <td>44.145472</td>\n",
       "      <td>7.787850</td>\n",
       "      <td>17.447876</td>\n",
       "      <td>319.265444</td>\n",
       "      <td>105.363417</td>\n",
       "      <td>457.384393</td>\n",
       "    </tr>\n",
       "    <tr>\n",
       "      <th>std</th>\n",
       "      <td>2.724755</td>\n",
       "      <td>759.513608</td>\n",
       "      <td>830.897955</td>\n",
       "      <td>2.844044</td>\n",
       "      <td>10.333149</td>\n",
       "      <td>93.455422</td>\n",
       "      <td>24.141959</td>\n",
       "      <td>8.100081</td>\n",
       "      <td>27.440655</td>\n",
       "      <td>260.410137</td>\n",
       "      <td>24.262761</td>\n",
       "      <td>760.452918</td>\n",
       "    </tr>\n",
       "    <tr>\n",
       "      <th>min</th>\n",
       "      <td>1994.000000</td>\n",
       "      <td>0.000000</td>\n",
       "      <td>0.000000</td>\n",
       "      <td>0.000000</td>\n",
       "      <td>0.000000</td>\n",
       "      <td>0.000000</td>\n",
       "      <td>0.000000</td>\n",
       "      <td>0.000000</td>\n",
       "      <td>0.000000</td>\n",
       "      <td>0.000000</td>\n",
       "      <td>0.000000</td>\n",
       "      <td>14.000000</td>\n",
       "    </tr>\n",
       "    <tr>\n",
       "      <th>25%</th>\n",
       "      <td>2002.000000</td>\n",
       "      <td>2048.000000</td>\n",
       "      <td>1120.000000</td>\n",
       "      <td>3.000000</td>\n",
       "      <td>35.000000</td>\n",
       "      <td>96.000000</td>\n",
       "      <td>30.000000</td>\n",
       "      <td>3.000000</td>\n",
       "      <td>8.000000</td>\n",
       "      <td>180.000000</td>\n",
       "      <td>92.000000</td>\n",
       "      <td>149.000000</td>\n",
       "    </tr>\n",
       "    <tr>\n",
       "      <th>50%</th>\n",
       "      <td>2004.000000</td>\n",
       "      <td>2560.000000</td>\n",
       "      <td>2048.000000</td>\n",
       "      <td>4.000000</td>\n",
       "      <td>36.000000</td>\n",
       "      <td>108.000000</td>\n",
       "      <td>50.000000</td>\n",
       "      <td>6.000000</td>\n",
       "      <td>16.000000</td>\n",
       "      <td>226.000000</td>\n",
       "      <td>101.000000</td>\n",
       "      <td>199.000000</td>\n",
       "    </tr>\n",
       "    <tr>\n",
       "      <th>75%</th>\n",
       "      <td>2006.000000</td>\n",
       "      <td>3072.000000</td>\n",
       "      <td>2560.000000</td>\n",
       "      <td>7.000000</td>\n",
       "      <td>38.000000</td>\n",
       "      <td>117.000000</td>\n",
       "      <td>60.000000</td>\n",
       "      <td>10.000000</td>\n",
       "      <td>20.000000</td>\n",
       "      <td>350.000000</td>\n",
       "      <td>115.000000</td>\n",
       "      <td>399.000000</td>\n",
       "    </tr>\n",
       "    <tr>\n",
       "      <th>max</th>\n",
       "      <td>2007.000000</td>\n",
       "      <td>5616.000000</td>\n",
       "      <td>4992.000000</td>\n",
       "      <td>21.000000</td>\n",
       "      <td>52.000000</td>\n",
       "      <td>518.000000</td>\n",
       "      <td>120.000000</td>\n",
       "      <td>85.000000</td>\n",
       "      <td>450.000000</td>\n",
       "      <td>1860.000000</td>\n",
       "      <td>240.000000</td>\n",
       "      <td>7999.000000</td>\n",
       "    </tr>\n",
       "  </tbody>\n",
       "</table>\n",
       "</div>"
      ],
      "text/plain": [
       "       Release date  Max resolution  Low resolution  Effective pixels  \\\n",
       "count   1038.000000     1038.000000     1038.000000       1038.000000   \n",
       "mean    2003.590559     2474.672447     1773.936416          4.596339   \n",
       "std        2.724755      759.513608      830.897955          2.844044   \n",
       "min     1994.000000        0.000000        0.000000          0.000000   \n",
       "25%     2002.000000     2048.000000     1120.000000          3.000000   \n",
       "50%     2004.000000     2560.000000     2048.000000          4.000000   \n",
       "75%     2006.000000     3072.000000     2560.000000          7.000000   \n",
       "max     2007.000000     5616.000000     4992.000000         21.000000   \n",
       "\n",
       "       Zoom wide (W)  Zoom tele (T)  Normal focus range  Macro focus range  \\\n",
       "count    1038.000000    1038.000000         1038.000000        1037.000000   \n",
       "mean       32.963391     121.525048           44.145472           7.787850   \n",
       "std        10.333149      93.455422           24.141959           8.100081   \n",
       "min         0.000000       0.000000            0.000000           0.000000   \n",
       "25%        35.000000      96.000000           30.000000           3.000000   \n",
       "50%        36.000000     108.000000           50.000000           6.000000   \n",
       "75%        38.000000     117.000000           60.000000          10.000000   \n",
       "max        52.000000     518.000000          120.000000          85.000000   \n",
       "\n",
       "       Storage included  Weight (inc. batteries)   Dimensions        Price  \n",
       "count       1036.000000              1036.000000  1036.000000  1038.000000  \n",
       "mean          17.447876               319.265444   105.363417   457.384393  \n",
       "std           27.440655               260.410137    24.262761   760.452918  \n",
       "min            0.000000                 0.000000     0.000000    14.000000  \n",
       "25%            8.000000               180.000000    92.000000   149.000000  \n",
       "50%           16.000000               226.000000   101.000000   199.000000  \n",
       "75%           20.000000               350.000000   115.000000   399.000000  \n",
       "max          450.000000              1860.000000   240.000000  7999.000000  "
      ]
     },
     "execution_count": 3,
     "metadata": {},
     "output_type": "execute_result"
    }
   ],
   "source": [
    "# OBSERVE THE STATISTICS OF THE DIFFERENT FEATURES OF THE DATASET\n",
    "# DO NOT CHANGE THIS CELL\n",
    "\n",
    "print(\"Statistics of the Dataset: \\n\")\n",
    "dataset.describe()"
   ]
  },
  {
   "cell_type": "code",
   "execution_count": 4,
   "metadata": {
    "id": "7cCgm80jIviq",
    "scrolled": true
   },
   "outputs": [
    {
     "name": "stdout",
     "output_type": "stream",
     "text": [
      "Total NAN values: 7\n",
      "\n",
      "Column wise NAN value:\n",
      "Model                      0\n",
      "Release date               0\n",
      "Max resolution             0\n",
      "Low resolution             0\n",
      "Effective pixels           0\n",
      "Zoom wide (W)              0\n",
      "Zoom tele (T)              0\n",
      "Normal focus range         0\n",
      "Macro focus range          1\n",
      "Storage included           2\n",
      "Weight (inc. batteries)    2\n",
      "Dimensions                 2\n",
      "Price                      0\n",
      "dtype: int64\n"
     ]
    }
   ],
   "source": [
    "# Find the total number of NaN values present in the dataset.\n",
    "# HINT: You can use \"df.isna()\" function (where df is your dataframe) from pandas to find NaN values.\n",
    "\n",
    "# START YOUR CODE HERE:\n",
    "\n",
    "column_nan_count = dataset.isna().sum()\n",
    "total_nan_count = dataset.isna().sum().sum()\n",
    "print(f\"Total NAN values: {total_nan_count}\")\n",
    "print(f\"\\nColumn wise NAN value:\\n{column_nan_count}\")\n",
    "\n",
    "# END YOUR CODE HERE"
   ]
  },
  {
   "cell_type": "code",
   "execution_count": 5,
   "metadata": {
    "id": "zXBAd9tPCL6R"
   },
   "outputs": [],
   "source": [
    "# THE NaN VALUES HAVE BEEN CLEANED BY REMOVING THE CORRESPONDING DATA POINTS. \n",
    "# THE CLEANED DATASET IS STORED IN THE VARIABLE \"data\". USE IT FOR FURTHER USE\n",
    "\n",
    "# DO NOT CHANGE THIS CELL!\n",
    "\n",
    "def remove_nan(df):\n",
    "  df_copy = df.copy()\n",
    "  df_copy.dropna(inplace = True)\n",
    "  return df_copy\n",
    "\n",
    "data = remove_nan(dataset)"
   ]
  },
  {
   "cell_type": "markdown",
   "metadata": {
    "id": "ZVIfC2jA_o7C"
   },
   "source": [
    "## 3. UNDERSTANDING THE DATA"
   ]
  },
  {
   "cell_type": "code",
   "execution_count": 6,
   "metadata": {
    "id": "SLLdMjUXFO9-"
   },
   "outputs": [
    {
     "data": {
      "text/plain": [
       "1036"
      ]
     },
     "execution_count": 6,
     "metadata": {},
     "output_type": "execute_result"
    }
   ],
   "source": [
    "# Find the number of data points i.e rows in the cleaned dataset i.e data variable. You can already see in an above cell how many features i.e columns there are.\n",
    "\n",
    "# wRITE YOUR CODE HERE\n",
    "\n",
    "rows_data = data.shape[0]\n",
    "rows_data\n",
    "\n",
    "# END YOUR CODE HERE"
   ]
  },
  {
   "cell_type": "code",
   "execution_count": 7,
   "metadata": {
    "id": "_qK4guei9Lqm"
   },
   "outputs": [],
   "source": [
    "# QUESTION 1: Find the datatype of the values stored in the \"Model\" column of the dataset and write them inside inverted commas. () (1 marks)\n",
    "# QUESTION 2: Find the datatype of the values stored in the \"Dimensions\" column of the dataset and write them inside inverted commas. (1 marks)\n",
    "#                Assign the answer of Question 1 to ans[0],\n",
    "#                Assign the answer of Question 2 to ans[1]. \n",
    "#                eg:- ans[0] = \"int64\"/\"float64\" if the ans is int64/float64\n",
    "# NOTE: Do not write \"int\". Write \"int64\"."
   ]
  },
  {
   "cell_type": "code",
   "execution_count": 8,
   "metadata": {
    "id": "JcaUEO0zBAY-"
   },
   "outputs": [
    {
     "name": "stdout",
     "output_type": "stream",
     "text": [
      "object\n",
      "float64\n"
     ]
    }
   ],
   "source": [
    "# START YOUR CODE HERE:\n",
    "\n",
    "dtype_model = data.Model.dtype\n",
    "print(dtype_model)\n",
    "dtype_dimen = data.Dimensions.dtype\n",
    "print(dtype_dimen)\n",
    "\n",
    "# END CODE HERE"
   ]
  },
  {
   "cell_type": "code",
   "execution_count": 9,
   "metadata": {
    "id": "NOY9NKQPDXVV"
   },
   "outputs": [],
   "source": [
    "# WRITE YOUR ANSWERS HERE BY SUBSTITUTING None WITH YOUR ANSWER:\n",
    "# DO NOT CHANGE THE INDEXES! OTHERWISE THE ANSWER MIGHT BE EVALUATED WRONG!\n",
    "\n",
    "ans[0] = str(dtype_model)\n",
    "ans[1] = str(dtype_dimen)"
   ]
  },
  {
   "cell_type": "code",
   "execution_count": 10,
   "metadata": {
    "id": "yd8DFuD8AY_S"
   },
   "outputs": [],
   "source": [
    "# QUESTION 3: Find out the number of unique release dates present in the dataset under the \"Release date\" column. (1 mark)\n",
    "#             Assign the answer to ans[2].\n"
   ]
  },
  {
   "cell_type": "code",
   "execution_count": 11,
   "metadata": {
    "id": "xgHedvLkIOxX"
   },
   "outputs": [
    {
     "data": {
      "text/plain": [
       "14"
      ]
     },
     "execution_count": 11,
     "metadata": {},
     "output_type": "execute_result"
    }
   ],
   "source": [
    "# START YOUR CODE HERE\n",
    "\n",
    "\n",
    "num_unique = data.loc[:,\"Release date\"].unique().shape[0]\n",
    "num_unique\n",
    "\n",
    "# END YOUR CODE HERE"
   ]
  },
  {
   "cell_type": "code",
   "execution_count": 12,
   "metadata": {
    "id": "EBZbszSWIWNZ"
   },
   "outputs": [],
   "source": [
    "# WRITE YOUR ANSWER HERE BY SUBSTITUTING None WITH YOUR ANSWER\n",
    "\n",
    "ans[2] = num_unique  "
   ]
  },
  {
   "cell_type": "code",
   "execution_count": 13,
   "metadata": {
    "id": "GSpZtVmBKVQI"
   },
   "outputs": [],
   "source": [
    "# If you run the same for the \"Model\" column you will observe that the \n",
    "# model column is unique and cannot be treated as a feature for predicting the price.\n",
    "# Hence we will not bother about that column from now."
   ]
  },
  {
   "cell_type": "markdown",
   "metadata": {
    "id": "-trfPH_iECbQ"
   },
   "source": [
    "## 4. VISUALIZING THE DATA"
   ]
  },
  {
   "cell_type": "code",
   "execution_count": 14,
   "metadata": {
    "id": "sbv2hLggHcoJ"
   },
   "outputs": [
    {
     "data": {
      "text/plain": [
       "array([[<AxesSubplot:title={'center':'Release date'}>]], dtype=object)"
      ]
     },
     "execution_count": 14,
     "metadata": {},
     "output_type": "execute_result"
    },
    {
     "data": {
      "image/png": "[encoded data removed]",
      "text/plain": [
       "<Figure size 432x288 with 1 Axes>"
      ]
     },
     "metadata": {
      "needs_background": "light"
     },
     "output_type": "display_data"
    }
   ],
   "source": [
    "# RUN THE CELL BELOW TO OBSERVE THE HISTOGRAM OF THE \"Release date\" COLUMN\n",
    "# DO NOT CHANGE THIS CELL!\n",
    "data.hist(column = \"Release date\")"
   ]
  },
  {
   "cell_type": "code",
   "execution_count": 15,
   "metadata": {
    "id": "dEy3_WsNWOI4"
   },
   "outputs": [
    {
     "data": {
      "text/plain": [
       "array([[<AxesSubplot:title={'center':'Release date'}>,\n",
       "        <AxesSubplot:title={'center':'Max resolution'}>,\n",
       "        <AxesSubplot:title={'center':'Low resolution'}>],\n",
       "       [<AxesSubplot:title={'center':'Effective pixels'}>,\n",
       "        <AxesSubplot:title={'center':'Zoom wide (W)'}>,\n",
       "        <AxesSubplot:title={'center':'Zoom tele (T)'}>],\n",
       "       [<AxesSubplot:title={'center':'Normal focus range'}>,\n",
       "        <AxesSubplot:title={'center':'Macro focus range'}>,\n",
       "        <AxesSubplot:title={'center':'Storage included'}>],\n",
       "       [<AxesSubplot:title={'center':'Weight (inc. batteries)'}>,\n",
       "        <AxesSubplot:title={'center':'Dimensions'}>,\n",
       "        <AxesSubplot:title={'center':'Price'}>]], dtype=object)"
      ]
     },
     "execution_count": 15,
     "metadata": {},
     "output_type": "execute_result"
    },
    {
     "data": {
      "image/png": "[encoded data removed]",
      "text/plain": [
       "<Figure size 1080x864 with 12 Axes>"
      ]
     },
     "metadata": {
      "needs_background": "light"
     },
     "output_type": "display_data"
    }
   ],
   "source": [
    "# TRY PLOTTING THE HISTOGRAM FOR THE OTHER COLUMNS\n",
    "\n",
    "# HINT 1: You can use a for loop to plot the histogram for all the columns in one go.\n",
    "# HINT 2: The code, \"dataset.columns\" gives a list of the columns of the dataset. \n",
    "# HINT 3: The \"not in\" phrase can be used to find if an element is not present in a particular list.\n",
    "\n",
    "# START CODE HERE:\n",
    "\n",
    "\n",
    "data.hist(column = data.columns, figsize=(15,12))\n",
    "\n",
    "\n",
    "\n",
    "# END CODE HERE"
   ]
  },
  {
   "cell_type": "markdown",
   "metadata": {
    "id": "Yd3WAjmsN4pB"
   },
   "source": [
    "## 5. CORRELATION OF DATA"
   ]
  },
  {
   "cell_type": "code",
   "execution_count": 16,
   "metadata": {
    "id": "y4m_2Abhv6Dl"
   },
   "outputs": [],
   "source": [
    "# QUESTION 4: Find the column which has the highest negative correlation with the \"Price\" column. Write the column name \n",
    "#             and the aboslute value of the correlation (1 + 1 = 2 marks)\n",
    "#             eg: if correlation of A with B is -0.66 and correlation of A with C is -0.89 then the answer would be C and 0.89.\n",
    "#             Assign the column name to ans[3] and remember to put your answer inside inverted commas.\n",
    "#             Assign the correlation value to ans[4] and remember to write the absolute value i.e |x|.\n",
    "#             eg: ans[3] = \"Model\" if the answer is the Model column\n",
    "#             eg: ans[4] = 0.74 if the correlation value is -0.74. "
   ]
  },
  {
   "cell_type": "code",
   "execution_count": 17,
   "metadata": {
    "id": "LKows3wDxpkQ"
   },
   "outputs": [
    {
     "name": "stdout",
     "output_type": "stream",
     "text": [
      "Correlation: -0.4591033999208591\n",
      "Column with highest correlation with price: Zoom wide (W)\n"
     ]
    }
   ],
   "source": [
    "# START YOUR CODE HERE:\n",
    "\n",
    "A = \"Price\"\n",
    "column_name = \"\"\n",
    "corre = (data.loc[:,A]).corr(data.loc[:,A])\n",
    "for B in data.columns:\n",
    "    if (data.loc[:,B].dtype != \"object\") and (corre>=(data.loc[:,A]).corr(data.loc[:,B])):\n",
    "        corre = (data.loc[:,A]).corr(data.loc[:,B])\n",
    "        column_name = str(B)\n",
    "print(f\"Correlation: {corre}\")         \n",
    "print(f\"Column with highest correlation with price: {column_name}\")\n",
    "\n",
    "# END CODE HERE"
   ]
  },
  {
   "cell_type": "code",
   "execution_count": 18,
   "metadata": {
    "id": "Z_iCmHqVxpq7"
   },
   "outputs": [],
   "source": [
    "ans[3] = str(column_name)   \n",
    "ans[4] = abs(corre) "
   ]
  },
  {
   "cell_type": "markdown",
   "metadata": {
    "id": "VNF8VghKOCzs"
   },
   "source": [
    "## 5. DISTINCTIVE FEATURES"
   ]
  },
  {
   "cell_type": "code",
   "execution_count": 19,
   "metadata": {
    "id": "HXtJO4USvaCQ"
   },
   "outputs": [],
   "source": [
    "# QUESTION 5: Find the number of data points whose (a) price > 50 percentile mark AND (b) Release date > 50 percentile mark. (2 mark)\n",
    "#             NOTE: There are two conditions in the question above, both of which needs to be satisfied.\n",
    "#             Assign the answer to ans[5]."
   ]
  },
  {
   "cell_type": "code",
   "execution_count": 20,
   "metadata": {
    "id": "rL77HD3oqJGC"
   },
   "outputs": [
    {
     "data": {
      "text/plain": [
       "220"
      ]
     },
     "execution_count": 20,
     "metadata": {},
     "output_type": "execute_result"
    }
   ],
   "source": [
    "# START YOUR CODE:\n",
    "\n",
    "\n",
    "\n",
    "num_points = data[(data.Price>data.Price.quantile(.50)) & (data.loc[:,\"Release date\"]>data.loc[:,\"Release date\"].quantile(.50))].shape[0]\n",
    "num_points\n",
    "\n",
    "\n",
    "\n",
    "# END YOUR CODE"
   ]
  },
  {
   "cell_type": "code",
   "execution_count": 21,
   "metadata": {
    "id": "j2ITBEIqqNaJ"
   },
   "outputs": [],
   "source": [
    "ans[5] = num_points"
   ]
  },
  {
   "cell_type": "code",
   "execution_count": 22,
   "metadata": {
    "id": "Nl_CGOr1S2tz"
   },
   "outputs": [],
   "source": [
    "# Also try finding the no data points whose (a) price > 50 percentile mark AND (b) Release Date < 59 percentile mark. \n",
    "\n",
    "# Can you justify why \"Release date >/< 50 percentile mark\" is not a good distinctive feature?\n",
    "\n",
    "# Repeat the above steps with \"Release data >/< (a) 25 percentile mark (b) 75 percentile mark (c)mean.\n",
    "\n",
    "# Can you justify why \"Release date\" is not a good distinctive feature at all?"
   ]
  },
  {
   "cell_type": "code",
   "execution_count": 23,
   "metadata": {},
   "outputs": [
    {
     "data": {
      "text/plain": [
       "212"
      ]
     },
     "execution_count": 23,
     "metadata": {},
     "output_type": "execute_result"
    }
   ],
   "source": [
    "# Release Date < 50 percentile mark\n",
    "num_points = data[(data.Price>data.Price.quantile(.50)) & (data.loc[:,\"Release date\"]<data.loc[:,\"Release date\"].quantile(.50))].shape[0]\n",
    "num_points"
   ]
  },
  {
   "cell_type": "markdown",
   "metadata": {},
   "source": [
    "### JUSTIFICATION WHY Release date ><50 percentile NOT A DISTINCTIVE FEATURE\n",
    "Probablity of realease date>50 percentile is ..... 220/(206+220) = 0.516\n",
    "\n",
    "Probablity of realease date<50 percentile is ..... 212/(212+213) = 0.498\n",
    "\n",
    "This seems that there would hardly be any information gain if we consider this feature"
   ]
  },
  {
   "cell_type": "code",
   "execution_count": 24,
   "metadata": {
    "scrolled": true
   },
   "outputs": [
    {
     "name": "stdout",
     "output_type": "stream",
     "text": [
      "Release Date > 25 percentile mark: 310\n",
      "Release Date < 25 percentile mark: 131\n"
     ]
    }
   ],
   "source": [
    "# Release data >/< (a) 25 percentile mark\n",
    "num_points_g = data[(data.Price<data.Price.quantile(.50)) & (data.loc[:,\"Release date\"]>data.loc[:,\"Release date\"].quantile(.25))].shape[0]\n",
    "num_points_l = data[(data.Price<data.Price.quantile(.50)) & (data.loc[:,\"Release date\"]<data.loc[:,\"Release date\"].quantile(.25))].shape[0]\n",
    "print(f\"Release Date > 25 percentile mark: {num_points_g}\")\n",
    "print(f\"Release Date < 25 percentile mark: {num_points_l}\")"
   ]
  },
  {
   "cell_type": "markdown",
   "metadata": {},
   "source": [
    "### JUSTIFICATION WHY Release date ><25 percentile NOT A DISTINCTIVE FEATURE\n",
    "Probablity of realease date>25 percentile is ..... 348/(348+310) = 0.528\n",
    "\n",
    "Probablity of realease date<25 percentile is ..... 112/(112+131) = 0.461\n",
    "\n",
    "This also seems that there would hardly be any information gain if we consider this feature"
   ]
  },
  {
   "cell_type": "code",
   "execution_count": 25,
   "metadata": {
    "scrolled": true
   },
   "outputs": [
    {
     "name": "stdout",
     "output_type": "stream",
     "text": [
      "Release Date > 75 percentile mark: 71\n",
      "Release Date < 75 percentile mark: 335\n"
     ]
    }
   ],
   "source": [
    "# Release data >/< 75 percentile mark\n",
    "num_points_g = data[(data.Price<data.Price.quantile(.50)) & (data.loc[:,\"Release date\"]>data.loc[:,\"Release date\"].quantile(.75))].shape[0]\n",
    "num_points_l = data[(data.Price<data.Price.quantile(.50)) & (data.loc[:,\"Release date\"]<data.loc[:,\"Release date\"].quantile(.75))].shape[0]\n",
    "print(f\"Release Date > 75 percentile mark: {num_points_g}\")\n",
    "print(f\"Release Date < 75 percentile mark: {num_points_l}\")"
   ]
  },
  {
   "cell_type": "markdown",
   "metadata": {},
   "source": [
    "### JUSTIFICATION WHY Release date ><75 percentile NOT A DISTINCTIVE FEATURE\n",
    "Probablity of realease date>75 percentile is ..... 82/(82+71) = 0.535\n",
    "\n",
    "Probablity of realease date<75 percentile is ..... 357/(357+335) = 0.515\n",
    "\n",
    "This also seems that there would hardly be any information gain if we consider this feature"
   ]
  },
  {
   "cell_type": "code",
   "execution_count": 26,
   "metadata": {},
   "outputs": [
    {
     "name": "stdout",
     "output_type": "stream",
     "text": [
      "Release Date > mean: 298\n",
      "Release Date < mean: 212\n"
     ]
    }
   ],
   "source": [
    "# Release data mean\n",
    "num_points_g = data[(data.Price>data.Price.quantile(.50)) & (data.loc[:,\"Release date\"]>data.loc[:,\"Release date\"].mean(axis=0))].shape[0]\n",
    "num_points_l = data[(data.Price>data.Price.quantile(.50)) & (data.loc[:,\"Release date\"]<data.loc[:,\"Release date\"].mean(axis=0))].shape[0]\n",
    "print(f\"Release Date > mean: {num_points_g}\")\n",
    "print(f\"Release Date < mean: {num_points_l}\")"
   ]
  },
  {
   "cell_type": "code",
   "execution_count": 27,
   "metadata": {},
   "outputs": [
    {
     "name": "stdout",
     "output_type": "stream",
     "text": [
      "Price > 50 percentile mark: 510\n",
      "Price < 50 percentile mark: 510\n"
     ]
    }
   ],
   "source": [
    "# Only price greater than and less than 50\n",
    "num_points_g = data[(data.Price>data.Price.quantile(.50))].shape[0]\n",
    "num_points_l = data[(data.Price>data.Price.quantile(.50))].shape[0]\n",
    "print(f\"Price > 50 percentile mark: {num_points_g}\")\n",
    "print(f\"Price < 50 percentile mark: {num_points_l}\")"
   ]
  },
  {
   "cell_type": "markdown",
   "metadata": {},
   "source": [
    "### JUSTIFICATION WHY Release date NOT A GOOD DISTINCTIVE FEATURE\n",
    "From observing the above cases for 50, 25 and 75 percentile marks it doesn't seem like Release date will be a \n",
    "good feature as there's hardly any information gain"
   ]
  },
  {
   "cell_type": "code",
   "execution_count": 28,
   "metadata": {
    "id": "QzrPzLgHXn77"
   },
   "outputs": [],
   "source": [
    "# QUESTION 6: Find the number of data points whose (a) price > 50 percentile mark AND (b) Weight (inc. batteries) > 75th percentile mark.(2 mark)\n",
    "#             NOTE: BOTH the conditions stated above need to be satisfied.\n",
    "#             Assign the answer to ans[6]."
   ]
  },
  {
   "cell_type": "code",
   "execution_count": 29,
   "metadata": {
    "id": "doYVbbB8KnqX"
   },
   "outputs": [
    {
     "data": {
      "text/plain": [
       "165"
      ]
     },
     "execution_count": 29,
     "metadata": {},
     "output_type": "execute_result"
    }
   ],
   "source": [
    "# START YOUR CODE HERE:\n",
    "num_points_w = data[(data.Price>data.Price.quantile(.50)) & (data.loc[:,\"Weight (inc. batteries)\"]>data.loc[:,\"Weight (inc. batteries)\"].quantile(.75))].shape[0]\n",
    "num_points_w\n",
    "# END YOUR CODE HERE"
   ]
  },
  {
   "cell_type": "code",
   "execution_count": 30,
   "metadata": {
    "id": "qsJy4JU1KsJ-"
   },
   "outputs": [],
   "source": [
    "# WRITE YOUR ANSWER HERE BY SUBSTITUTING None WITH YOUR ANSWER\n",
    "\n",
    "ans[6] = num_points_w     "
   ]
  },
  {
   "cell_type": "code",
   "execution_count": 31,
   "metadata": {
    "id": "ZbcCa15yV2ec"
   },
   "outputs": [],
   "source": [
    "# Try the same with (a) price > 50 percentile mark AND (b) Weight (inc. batteries) < 75 percentile mark.\n",
    "# Can you justify whether Weight (inc. batteries) >/< 75 percentile mark is a good distinctive feature?\n",
    "# HINT: Weight (inc. batteries) > 75 percentile mark implies that price will be ?"
   ]
  },
  {
   "cell_type": "code",
   "execution_count": 32,
   "metadata": {
    "scrolled": true
   },
   "outputs": [
    {
     "data": {
      "text/plain": [
       "345"
      ]
     },
     "execution_count": 32,
     "metadata": {},
     "output_type": "execute_result"
    }
   ],
   "source": [
    "num_points_w = data[(data.Price>data.Price.quantile(.50)) & (data.loc[:,\"Weight (inc. batteries)\"]<data.loc[:,\"Weight (inc. batteries)\"].quantile(.75))].shape[0]\n",
    "num_points_w"
   ]
  },
  {
   "cell_type": "markdown",
   "metadata": {},
   "source": [
    "### JUSTIFICATION WHY Weight (inc. batteries) ><75 percentile IS A GOOD FEATURE\n",
    "Probablity of realease date>75 percentile is ..... 165/(165+86) = 0.66\n",
    " \n",
    "Probablity of realease date<75 percentile is ..... 345/(345+383) = 0.474\n",
    " \n",
    "There can be a significant amount of information gain from this feature though it might not be ideal still a better distinctive feature compared to Release date"
   ]
  },
  {
   "cell_type": "code",
   "execution_count": 33,
   "metadata": {
    "id": "0sdSJhL2KHtb"
   },
   "outputs": [],
   "source": [
    "# TRY FITTING TWO LINEAR REGRESSION MODELS BY ONCE DROPPING THE FEATURE \"Weight (inc. batteries)\"\n",
    "# AND ONCE BY KEEPING ALL FEATURES. THEN COMPARE THE TRAINING/VALIDATION ACCURACY OF THE TWO\n",
    "# NOTE: A LINEAR REGRESSION MODEL HAS BEEN IMPLEMENTED FOR YOU IN THE CELL BELOW "
   ]
  },
  {
   "cell_type": "code",
   "execution_count": 34,
   "metadata": {
    "id": "f8B7LuftM-gg"
   },
   "outputs": [
    {
     "name": "stdout",
     "output_type": "stream",
     "text": [
      "\n",
      " Train Accuracy of Linear Regression model with distinctive feature =  0.30824841336860254\n",
      "\n",
      " Validation Accuracy of Linear Regression model with distinctive feature =  0.17324036084797023\n",
      "\n",
      " Train Accuracy of Linear Regression model without distinctive feature =  0.26015598532272943\n",
      "\n",
      " Validation Accuracy of Linear Regression model without distinctive feature =  0.08807588276988398\n"
     ]
    }
   ],
   "source": [
    "# PRE IMPLEMENTED LINEAR REGRESSOR\n",
    "# CHANGE THIS CELL ONLY WHERE INDICATED!\n",
    "\n",
    "def implement_linear_reg():\n",
    "  # data_fs : Dataset from which you drop your most distinctive feature\n",
    "  # data :  The original Dataset with all features intact (except \"Model\" which we dropped earlier)\n",
    "  # X : the training features\n",
    "  # Y : the training label (the \"Price\" column)\n",
    "  # xtrain, xval : the training set and validation set respectively\n",
    "  # linreg : The linear regression model\n",
    "  \n",
    "  linreg = LinearRegression(fit_intercept = True, normalize = False)\n",
    "\n",
    "  data_fs = data.copy()              #Use data_fs as the dataset from where you drop the most distinctive feature. \n",
    "\n",
    "  # START YOUR CODE HERE:\n",
    "  \n",
    "  # You can write the column name enclosed within inverted commas inside the empty [] i.e eg: data_fs.drop(columns = [\"Model\"], inplace = True)\n",
    "  data_fs.drop(columns = [\"Model\",\"Weight (inc. batteries)\"], inplace = True)\n",
    "  data.drop(columns= [\"Model\"], inplace = True)\n",
    "\n",
    "  # END YOUR CODE HERE\n",
    "  \n",
    "  Y = data[\"Price\"]\n",
    "  X = data.drop(columns = [\"Price\"])\n",
    "  xtrain, xval, ytrain, yval = train_test_split(X, Y, test_size = 100, random_state = 40)\n",
    "  \n",
    "  linreg.fit(xtrain, ytrain)\n",
    "  \n",
    "\n",
    "  print(\"\\n Train Accuracy of Linear Regression model with distinctive feature = \", linreg.score(xtrain, ytrain))\n",
    "  print(\"\\n Validation Accuracy of Linear Regression model with distinctive feature = \", linreg.score(xval, yval))\n",
    "  \n",
    "  Y = data_fs[\"Price\"]\n",
    "  X = data_fs.drop(columns = [\"Price\"])\n",
    "  xtrain, xval, ytrain, yval = train_test_split(X, Y, test_size = 100, random_state = 40)\n",
    "\n",
    "  linreg.fit(xtrain, ytrain)\n",
    "  print(\"\\n Train Accuracy of Linear Regression model without distinctive feature = \", linreg.score(xtrain, ytrain))\n",
    "  print(\"\\n Validation Accuracy of Linear Regression model without distinctive feature = \", linreg.score(xval, yval))\n",
    "\n",
    "\n",
    "implement_linear_reg()"
   ]
  },
  {
   "cell_type": "code",
   "execution_count": 35,
   "metadata": {},
   "outputs": [
    {
     "data": {
      "text/plain": [
       "['object', 'float64', 14, 'Zoom wide (W)', 0.4591033999208591, 220, 165, None]"
      ]
     },
     "execution_count": 35,
     "metadata": {},
     "output_type": "execute_result"
    }
   ],
   "source": [
    "ans"
   ]
  },
  {
   "cell_type": "code",
   "execution_count": 36,
   "metadata": {
    "id": "Wz3hndonyQqx"
   },
   "outputs": [],
   "source": [
    "# RUN THE CODE BELOW TO GET YOUR ANSWERS EVALUATED.\n",
    "# DO NOT CHANGE THIS CELL!\n",
    "\n",
    "ans = [item for item in ans]\n",
    "with open(\"ans.json\", \"w\") as f:\n",
    "  json.dump(ans, f)\n"
   ]
  },
  {
   "cell_type": "code",
   "execution_count": 84,
   "metadata": {
    "id": "ZvJAvjsNbPnW"
   },
   "outputs": [
    {
     "name": "stderr",
     "output_type": "stream",
     "text": [
      "'..' is not recognized as an internal or external command,\n",
      "operable program or batch file.\n"
     ]
    }
   ],
   "source": [
    "! ../submit ans.json"
   ]
  }
 ],
 "metadata": {
  "colab": {
   "authorship_tag": "ABX9TyPCE4RV1tHwHlcxxpq7fmS5",
   "collapsed_sections": [],
   "name": "unit7_Begin.ipynb",
   "provenance": []
  },
  "kernelspec": {
   "display_name": "Python 3 (ipykernel)",
   "language": "python",
   "name": "python3"
  },
  "language_info": {
   "codemirror_mode": {
    "name": "ipython",
    "version": 3
   },
   "file_extension": ".py",
   "mimetype": "text/x-python",
   "name": "python",
   "nbconvert_exporter": "python",
   "pygments_lexer": "ipython3",
   "version": "3.9.6"
  }
 },
 "nbformat": 4,
 "nbformat_minor": 1
}
